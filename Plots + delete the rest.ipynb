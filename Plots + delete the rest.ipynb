{
 "cells": [
  {
   "cell_type": "code",
   "execution_count": null,
   "id": "3e6caf11",
   "metadata": {},
   "outputs": [],
   "source": [
    "import pandas as pd\n",
    "import numpy as np\n",
    "from sklearn.model_selection import train_test_split\n",
    "from sklearn.preprocessing import OneHotEncoder\n",
    "from sklearn.ensemble import RandomForestClassifier\n",
    "pd.set_option('display.max_columns', None)\n",
    "import matplotlib.pyplot as plt\n",
    "from sklearn import metrics\n",
    "from sklearn.utils import resample\n",
    "from sklearn.model_selection import RandomizedSearchCV, GridSearchCV\n",
    "import pickle\n",
    "from sklearn.inspection import permutation_importance\n",
    "\n",
    "plt.rcParams['figure.figsize'] = (15,12)\n",
    "#pd.set_option('display.max_rows', None)"
   ]
  },
  {
   "cell_type": "code",
   "execution_count": null,
   "id": "3ea074b2",
   "metadata": {
    "scrolled": false
   },
   "outputs": [],
   "source": [
    "df = pd.read_csv('weather_crime.csv')\n",
    "df.head()"
   ]
  },
  {
   "cell_type": "code",
   "execution_count": null,
   "id": "96c6e233",
   "metadata": {},
   "outputs": [],
   "source": [
    "weather = pd.read_csv('weather_api .csv')\n",
    "crime = pd.read_csv('Crimes_-_2021.csv')"
   ]
  },
  {
   "cell_type": "code",
   "execution_count": null,
   "id": "02da1947",
   "metadata": {},
   "outputs": [],
   "source": [
    "crime.dtypes"
   ]
  },
  {
   "cell_type": "code",
   "execution_count": null,
   "id": "cd28a26e",
   "metadata": {},
   "outputs": [],
   "source": [
    "# dropping the unnamed: 0 column as it is not required\n",
    "\n",
    "df = df.drop(['Unnamed: 0','sunrisetime','sunsettime','temperaturemax','temperaturemin'],axis=1)"
   ]
  },
  {
   "cell_type": "code",
   "execution_count": null,
   "id": "28bbb494",
   "metadata": {},
   "outputs": [],
   "source": [
    "df.rename(columns = {'date__of_occurrence':'date_of_occurrence','_primary_description':'primary_description','_secondary_description':'secondary_description','_location_description':'location_description','month_x':'month','day_x':'day','temperaturehigh':'high_temp','temperaturelow':'low_temp'}, inplace = True)\n"
   ]
  },
  {
   "cell_type": "code",
   "execution_count": null,
   "id": "5788b326",
   "metadata": {},
   "outputs": [],
   "source": [
    "df"
   ]
  },
  {
   "cell_type": "code",
   "execution_count": null,
   "id": "51ea90a8",
   "metadata": {
    "scrolled": true
   },
   "outputs": [],
   "source": [
    "df.dtypes\n"
   ]
  },
  {
   "cell_type": "code",
   "execution_count": null,
   "id": "1dd4ddd7",
   "metadata": {},
   "outputs": [],
   "source": [
    "# Create bins for temperature data\n",
    "temp_bins = [0, 20, 40, 60, 80, 100, 120]\n",
    "temp_labels = [\"0 to 20\", \"20 to 40\", \"40 to 60\", \"60 to 80\", \"80 to 100\", \"100 to 120\"]\n",
    "\n",
    "# Bin the Temp column and add it to the dataframe as the Temp. Bin column\n",
    "df['Temp Bin'] = pd.cut(df['high_temp'], temp_bins, labels=temp_labels)\n",
    "\n",
    "# Group by temperature bins, counting the number of crimes committed in each bucket\n",
    "grouped_by_temp_bins = df.groupby(['Temp Bin', 'primary_description'])['date'].count()\n",
    "\n",
    "grouped_by_temp_bins_ = df.groupby(['Temp Bin', 'primary_description'])['date'].count()\n",
    "\n",
    "# Create a Dataframe with the grouped temperature data and reset index for plotting\n",
    "grouped_by_temp_bins_df = pd.DataFrame(grouped_by_temp_bins.reset_index())\n",
    "\n",
    "# Rename columns\n",
    "grouped_by_temp_bins_df.columns = ['Temp Bin', 'Crime Type', 'Number of Crimes']\n",
    "\n",
    "# Pivot Dataframe as preparation for plotting\n",
    "grouped_by_temp_bins_df2 = grouped_by_temp_bins_df.pivot(index='Temp Bin', columns='Crime Type', values = 'Number of Crimes')\n",
    "\n",
    "# Preview Dataframe\n",
    "grouped_by_temp_bins_df2"
   ]
  },
  {
   "cell_type": "code",
   "execution_count": null,
   "id": "a4af798b",
   "metadata": {},
   "outputs": [],
   "source": [
    "# Plot Count of Each Crime Type For Each Temperature Bin\n",
    "fig = plt.figure(figsize=(10,5))\n",
    "ax = fig.add_subplot(111)\n",
    "xloc = np.arange(6)  # the x locations for the bars\n",
    "width = 0.1 # the width of the bars\n",
    "ax.bar(xloc - width*2, grouped_by_temp_bins_df2['ASSAULT'], width, label = 'Assault')\n",
    "ax.bar(xloc - width, grouped_by_temp_bins_df2['BATTERY'], width, label = 'Battery')\n",
    "ax.bar(xloc, grouped_by_temp_bins_df2['BURGLARY'], width, label = 'Burglary')\n",
    "ax.bar(xloc + width, grouped_by_temp_bins_df2['CRIMINAL DAMAGE'], width, label = 'Criminal Damage')\n",
    "ax.bar(xloc + width*2, grouped_by_temp_bins_df2['DECEPTIVE PRACTICE'], width, label = 'Deceptive Practice')\n",
    "plt.xticks(xloc, temp_labels)\n",
    "plt.xlabel('Temperature (Fahrenheit)', fontweight = 'bold')\n",
    "plt.ylabel('Total Number of Crimes', fontweight = 'bold')\n",
    "plt.title('Number of Crimes Committed in Each Temperature Range', fontweight = 'bold', fontsize = 14)\n",
    "ax.legend()\n",
    "\n",
    "# Save figure and show it\n",
    "plt.savefig('Number of Crimes Committed in Each Temperature Range.png', bbox_inches = 'tight', dpi = 199)\n",
    "plt.show()"
   ]
  },
  {
   "cell_type": "code",
   "execution_count": null,
   "id": "6c07cfa3",
   "metadata": {},
   "outputs": [],
   "source": [
    "# Group weather dataframe by temperature bins, counting the number of days in each bucket\n",
    "num_days_in_temp_bins = df.groupby(['high_temp'])['date'].count()\n",
    "\n",
    "# Plot bar graph of temperature distribution\n",
    "plt.figure(figsize=(10,5))\n",
    "plt.title('Histogram of Temperature Distribution', fontweight = 'bold', fontsize = 14)\n",
    "plt.xlabel('Temperature (Celsius)', fontweight = 'bold')\n",
    "plt.ylabel('Number of Days', fontweight = 'bold')\n",
    "plt.bar(num_days_in_temp_bins.index, num_days_in_temp_bins)\n",
    "\n",
    "# Save figure and show it\n",
    "plt.savefig('Histogram of Temperature Distribution.png', bbox_inches = 'tight', dpi = 199)\n",
    "plt.show()"
   ]
  },
  {
   "cell_type": "code",
   "execution_count": null,
   "id": "41973d4f",
   "metadata": {},
   "outputs": [],
   "source": []
  },
  {
   "cell_type": "code",
   "execution_count": null,
   "id": "d4b9c43c",
   "metadata": {},
   "outputs": [],
   "source": [
    "# Group weather-crime dataframe by temperature bins, \n",
    "#  counting the number of crimes committed in each bucket\n",
    "num_crimes_in_temp_bins = df.groupby(['high_temp'])['primary_description'].count()\n",
    "\n",
    "# Create a Dataframe with the grouped temperature data\n",
    "num_crimes_in_temp_bins_df = pd.DataFrame({'Number of Crimes': num_crimes_in_temp_bins,\n",
    "                                           'Number of Days': num_days_in_temp_bins,\n",
    "                                           'Average Number of Crimes Committed': round(num_crimes_in_temp_bins/num_days_in_temp_bins)})\n",
    "\n",
    "# Preview Dataframe\n",
    "num_crimes_in_temp_bins_df.head(50)"
   ]
  },
  {
   "cell_type": "code",
   "execution_count": null,
   "id": "1ff0df53",
   "metadata": {},
   "outputs": [],
   "source": []
  },
  {
   "cell_type": "code",
   "execution_count": null,
   "id": "434ea06f",
   "metadata": {},
   "outputs": [],
   "source": [
    "crime_count = pd.DataFrame(df.groupby('primary_description').size().sort_values(ascending=False).rename('counts').reset_index())\n",
    "\n",
    "crime_count.head(31)"
   ]
  },
  {
   "cell_type": "code",
   "execution_count": null,
   "id": "b1e52bbd",
   "metadata": {},
   "outputs": [],
   "source": []
  },
  {
   "cell_type": "code",
   "execution_count": null,
   "id": "a11d34de",
   "metadata": {},
   "outputs": [],
   "source": []
  },
  {
   "cell_type": "markdown",
   "id": "3f79e5e5",
   "metadata": {},
   "source": [
    "## X y Split"
   ]
  },
  {
   "cell_type": "code",
   "execution_count": null,
   "id": "9c4a7924",
   "metadata": {},
   "outputs": [],
   "source": [
    "X = df[['primary_description', 'month', 'day', 'block', 'date_of_occurrence', 'precipintensity', 'date',\n",
    "       'arrest', 'location_description']]\n",
    "\n",
    "y = df['primary_description']\n",
    "\n",
    "X.shape, y.shape"
   ]
  },
  {
   "cell_type": "code",
   "execution_count": null,
   "id": "5579d40e",
   "metadata": {
    "scrolled": true
   },
   "outputs": [],
   "source": [
    "y.value_counts()"
   ]
  },
  {
   "cell_type": "code",
   "execution_count": null,
   "id": "297946e2",
   "metadata": {},
   "outputs": [],
   "source": [
    "X_train, X_test, y_train, y_test = train_test_split(X, y, test_size=0.25, random_state=42)\n"
   ]
  },
  {
   "cell_type": "code",
   "execution_count": null,
   "id": "a1fac801",
   "metadata": {},
   "outputs": [],
   "source": [
    "df.to_csv('presentation.csv')"
   ]
  },
  {
   "cell_type": "code",
   "execution_count": null,
   "id": "2660ba02",
   "metadata": {},
   "outputs": [],
   "source": []
  },
  {
   "cell_type": "code",
   "execution_count": null,
   "id": "c5cdf03f",
   "metadata": {
    "scrolled": false
   },
   "outputs": [],
   "source": [
    "#calculate the total frequency of all crimes per day. \n",
    "total_crimes = (crime.groupby(['Date']).size())\n",
    "avg_weather = weather.groupby(['date']).mean()\n",
    "print(avg_weather)\n",
    "print(total_crimes)"
   ]
  },
  {
   "cell_type": "code",
   "execution_count": null,
   "id": "9dc1743c",
   "metadata": {},
   "outputs": [],
   "source": [
    "weather.dtypes"
   ]
  },
  {
   "cell_type": "code",
   "execution_count": null,
   "id": "7a8996c0",
   "metadata": {},
   "outputs": [],
   "source": []
  },
  {
   "cell_type": "code",
   "execution_count": null,
   "id": "990d4504",
   "metadata": {},
   "outputs": [],
   "source": [
    "frames = [total_crimes, avg_weather]\n",
    "result = pd.concat(frames, axis=1, sort=True)\n",
    "result = result.dropna()\n",
    "result.columns = ['BATTERY','apparentTemperatureMax', 'precipAccumulation']\n",
    "result.plot(kind='Scatter', x='Temp (C)', y='Battery')\n",
    "result.plot(kind='Scatter', x='Total Precipitation (mm)', y='Battery', color='r')\n",
    "result.plot()"
   ]
  },
  {
   "cell_type": "code",
   "execution_count": null,
   "id": "25a6c92a",
   "metadata": {},
   "outputs": [],
   "source": []
  },
  {
   "cell_type": "code",
   "execution_count": null,
   "id": "7fcb47c2",
   "metadata": {},
   "outputs": [],
   "source": []
  },
  {
   "cell_type": "code",
   "execution_count": null,
   "id": "213a8f3c",
   "metadata": {},
   "outputs": [],
   "source": []
  },
  {
   "cell_type": "code",
   "execution_count": null,
   "id": "eec9e171",
   "metadata": {},
   "outputs": [],
   "source": []
  },
  {
   "cell_type": "code",
   "execution_count": null,
   "id": "1f63344b",
   "metadata": {},
   "outputs": [],
   "source": []
  },
  {
   "cell_type": "code",
   "execution_count": null,
   "id": "4b44d842",
   "metadata": {},
   "outputs": [],
   "source": []
  },
  {
   "cell_type": "code",
   "execution_count": null,
   "id": "b7386d05",
   "metadata": {},
   "outputs": [],
   "source": []
  },
  {
   "cell_type": "code",
   "execution_count": null,
   "id": "4073c638",
   "metadata": {},
   "outputs": [],
   "source": []
  },
  {
   "cell_type": "code",
   "execution_count": null,
   "id": "2d3e8dd3",
   "metadata": {},
   "outputs": [],
   "source": []
  },
  {
   "cell_type": "code",
   "execution_count": null,
   "id": "094c9016",
   "metadata": {},
   "outputs": [],
   "source": []
  },
  {
   "cell_type": "code",
   "execution_count": null,
   "id": "ba6ae922",
   "metadata": {},
   "outputs": [],
   "source": []
  },
  {
   "cell_type": "code",
   "execution_count": null,
   "id": "316cd146",
   "metadata": {},
   "outputs": [],
   "source": []
  },
  {
   "cell_type": "code",
   "execution_count": null,
   "id": "db9ffac7",
   "metadata": {},
   "outputs": [],
   "source": []
  },
  {
   "cell_type": "code",
   "execution_count": null,
   "id": "5e4ff272",
   "metadata": {},
   "outputs": [],
   "source": []
  },
  {
   "cell_type": "code",
   "execution_count": null,
   "id": "fcb0c639",
   "metadata": {},
   "outputs": [],
   "source": []
  },
  {
   "cell_type": "code",
   "execution_count": null,
   "id": "d2f822f5",
   "metadata": {},
   "outputs": [],
   "source": []
  },
  {
   "cell_type": "code",
   "execution_count": null,
   "id": "f463e33d",
   "metadata": {},
   "outputs": [],
   "source": []
  },
  {
   "cell_type": "code",
   "execution_count": null,
   "id": "172225f4",
   "metadata": {},
   "outputs": [],
   "source": []
  },
  {
   "cell_type": "code",
   "execution_count": null,
   "id": "cce3bc0d",
   "metadata": {},
   "outputs": [],
   "source": []
  },
  {
   "cell_type": "code",
   "execution_count": null,
   "id": "1ccc4f6f",
   "metadata": {},
   "outputs": [],
   "source": []
  },
  {
   "cell_type": "code",
   "execution_count": null,
   "id": "c58b04ab",
   "metadata": {},
   "outputs": [],
   "source": []
  },
  {
   "cell_type": "code",
   "execution_count": null,
   "id": "49c7fe24",
   "metadata": {},
   "outputs": [],
   "source": []
  },
  {
   "cell_type": "code",
   "execution_count": null,
   "id": "60bd05c6",
   "metadata": {},
   "outputs": [],
   "source": [
    "## KEEP ON WORKING ON MODEL !!!!!!"
   ]
  },
  {
   "cell_type": "code",
   "execution_count": null,
   "id": "51325f99",
   "metadata": {},
   "outputs": [],
   "source": [
    "# balancing data\n",
    "\n",
    "combined = pd.concat([X_train, y_train], axis=1)\n",
    "\n",
    "category_0 = combined[combined['primary_description']== 0]\n",
    "category_1 = combined[combined['primary_description']== 1]\n",
    "\n",
    "category_0_sample = resample(category_0, replace= True, n_samples = len(category_1))"
   ]
  },
  {
   "cell_type": "code",
   "execution_count": null,
   "id": "f30aeb7e",
   "metadata": {},
   "outputs": [],
   "source": [
    "data_upsampled = pd.concat([category_1, category_0_sample], axis=0)\n"
   ]
  },
  {
   "cell_type": "code",
   "execution_count": null,
   "id": "9d8a88ab",
   "metadata": {},
   "outputs": [],
   "source": [
    "X_train = data_upsampled.drop('tip_yes', axis=1)\n",
    "y_train = data_upsampled['tip_yes']"
   ]
  },
  {
   "cell_type": "code",
   "execution_count": null,
   "id": "b4255b29",
   "metadata": {},
   "outputs": [],
   "source": []
  },
  {
   "cell_type": "markdown",
   "id": "4ece4dc0",
   "metadata": {},
   "source": [
    "## Train the model"
   ]
  },
  {
   "cell_type": "code",
   "execution_count": null,
   "id": "af2c1e9c",
   "metadata": {},
   "outputs": [],
   "source": [
    "clf = RandomForestClassifier(max_depth=25, \n",
    "                             min_samples_split= 10,\n",
    "                             random_state=0)\n",
    "\n",
    "clf.fit(X_train, y_train)\n",
    "\n",
    "clf.score(X_train, y_train)"
   ]
  },
  {
   "cell_type": "code",
   "execution_count": null,
   "id": "93370495",
   "metadata": {},
   "outputs": [],
   "source": [
    "clf.score(X_test, y_test)\n"
   ]
  },
  {
   "cell_type": "code",
   "execution_count": null,
   "id": "9432f842",
   "metadata": {},
   "outputs": [],
   "source": []
  },
  {
   "cell_type": "code",
   "execution_count": null,
   "id": "7beee804",
   "metadata": {},
   "outputs": [],
   "source": [
    "print(metrics.classification_report(y_test, clf.predict(X_test)))"
   ]
  },
  {
   "cell_type": "code",
   "execution_count": null,
   "id": "01bc8dd8",
   "metadata": {},
   "outputs": [],
   "source": [
    "# saving the trained model to be used later or as when needed\n",
    "\n",
    "pickle.dump(clf, open('first_model.pkl', 'wb'))"
   ]
  },
  {
   "cell_type": "code",
   "execution_count": null,
   "id": "319c02d9",
   "metadata": {},
   "outputs": [],
   "source": [
    "# Loading the saved model\n",
    "\n",
    "model = pickle.load(open('first_model.pkl', 'rb'))"
   ]
  },
  {
   "cell_type": "code",
   "execution_count": null,
   "id": "221f43bb",
   "metadata": {},
   "outputs": [],
   "source": []
  },
  {
   "cell_type": "markdown",
   "id": "a3d0db15",
   "metadata": {},
   "source": [
    "## Feature Importance"
   ]
  },
  {
   "cell_type": "code",
   "execution_count": null,
   "id": "a5b52333",
   "metadata": {},
   "outputs": [],
   "source": [
    "# finding the important feature permutation\n",
    "\n",
    "perm_importance = permutation_importance(clf, X_test, y_test)"
   ]
  },
  {
   "cell_type": "code",
   "execution_count": null,
   "id": "a90565dd",
   "metadata": {},
   "outputs": [],
   "source": [
    "sorted_idx = perm_importance.importances_mean.argsort()\n",
    "plt.barh(X_test.columns[sorted_idx], perm_importance.importances_mean[sorted_idx])\n",
    "plt.xlabel(\"Permutation Importance\")"
   ]
  },
  {
   "cell_type": "code",
   "execution_count": null,
   "id": "dd43d30b",
   "metadata": {},
   "outputs": [],
   "source": [
    "plt.savefig('model_1_feature_important.jpg')\n"
   ]
  },
  {
   "cell_type": "code",
   "execution_count": null,
   "id": "c3c9765f",
   "metadata": {},
   "outputs": [],
   "source": [
    "plt.bar(height=clf.feature_importances_, x=X_train.columns)\n",
    "plt.xticks(rotation=90)\n",
    "plt.show()"
   ]
  },
  {
   "cell_type": "code",
   "execution_count": null,
   "id": "3cfb6b4f",
   "metadata": {},
   "outputs": [],
   "source": []
  },
  {
   "cell_type": "markdown",
   "id": "354d1016",
   "metadata": {},
   "source": [
    "### Second Model"
   ]
  },
  {
   "cell_type": "code",
   "execution_count": null,
   "id": "5e00bb71",
   "metadata": {},
   "outputs": [],
   "source": [
    "taxi_data['higher_tip'] = np.where(taxi_data['tip_percent'] > 15, 1, 0)\n"
   ]
  },
  {
   "cell_type": "code",
   "execution_count": null,
   "id": "fdd78597",
   "metadata": {},
   "outputs": [],
   "source": [
    "taxi_data['higher_tip'].value_counts()\n"
   ]
  },
  {
   "cell_type": "code",
   "execution_count": null,
   "id": "760634b0",
   "metadata": {},
   "outputs": [],
   "source": []
  },
  {
   "cell_type": "code",
   "execution_count": null,
   "id": "058daa95",
   "metadata": {},
   "outputs": [],
   "source": []
  },
  {
   "cell_type": "code",
   "execution_count": null,
   "id": "da896af9",
   "metadata": {},
   "outputs": [],
   "source": []
  },
  {
   "cell_type": "code",
   "execution_count": null,
   "id": "805ec6a9",
   "metadata": {},
   "outputs": [],
   "source": []
  },
  {
   "cell_type": "code",
   "execution_count": null,
   "id": "2d08ce1b",
   "metadata": {},
   "outputs": [],
   "source": []
  },
  {
   "cell_type": "code",
   "execution_count": null,
   "id": "364b8e33",
   "metadata": {},
   "outputs": [],
   "source": []
  },
  {
   "cell_type": "code",
   "execution_count": null,
   "id": "074f85a2",
   "metadata": {},
   "outputs": [],
   "source": []
  },
  {
   "cell_type": "code",
   "execution_count": null,
   "id": "aab0bb5a",
   "metadata": {},
   "outputs": [],
   "source": []
  },
  {
   "cell_type": "code",
   "execution_count": null,
   "id": "76a6bda0",
   "metadata": {},
   "outputs": [],
   "source": [
    "# looking at the feature importance, it seems that weather features have no use in the model and so I will\n",
    "# remove them for building next model\n",
    "\n",
    "sorted_idx = perm_importance.importances_mean.argsort()\n",
    "plt.barh(X_test.columns[sorted_idx], perm_importance.importances_mean[sorted_idx])\n",
    "plt.xlabel(\"Permutation Importance\")"
   ]
  },
  {
   "cell_type": "code",
   "execution_count": null,
   "id": "d6b6b046",
   "metadata": {},
   "outputs": [],
   "source": [
    "plt.savefig('model_2_feature_important.jpg')\n"
   ]
  },
  {
   "cell_type": "code",
   "execution_count": null,
   "id": "a61b2a63",
   "metadata": {},
   "outputs": [],
   "source": [
    "# second method of finding feature importance, you dont need to put it in presentation\n",
    "\n",
    "plt.bar(height=clf.feature_importances_, x=X_train.columns)\n",
    "plt.xticks(rotation=90)\n",
    "plt.show()"
   ]
  },
  {
   "cell_type": "code",
   "execution_count": null,
   "id": "05f083a0",
   "metadata": {},
   "outputs": [],
   "source": []
  },
  {
   "cell_type": "markdown",
   "id": "401400a2",
   "metadata": {},
   "source": [
    "### Third Model"
   ]
  },
  {
   "cell_type": "code",
   "execution_count": null,
   "id": "75f26af1",
   "metadata": {},
   "outputs": [],
   "source": [
    "X_train = X_train[['hour', 'day_of_week', 'month', 'passenger_count']]\n",
    "X_test = X_test[['hour', 'day_of_week', 'month', 'passenger_count']]\n",
    "\n",
    "\n",
    "clf = RandomForestClassifier(max_depth=20, \n",
    "                             min_samples_leaf= 5,\n",
    "                             min_samples_split = 5,\n",
    "                             verbose=20,\n",
    "                             random_state=0)\n",
    "clf.fit(X_train, y_train)\n",
    "\n",
    "print(clf.score(X_train, y_train))\n",
    "print(clf.score(X_test, y_test))"
   ]
  },
  {
   "cell_type": "code",
   "execution_count": null,
   "id": "c5aae29c",
   "metadata": {},
   "outputs": [],
   "source": [
    "pickle.dump(clf, open('third_model.pkl', 'wb'))\n"
   ]
  },
  {
   "cell_type": "code",
   "execution_count": null,
   "id": "3f521300",
   "metadata": {},
   "outputs": [],
   "source": [
    "print(metrics.classification_report(y_test, clf.predict(X_test)))\n"
   ]
  },
  {
   "cell_type": "code",
   "execution_count": null,
   "id": "50291eed",
   "metadata": {},
   "outputs": [],
   "source": [
    "sorted_idx = perm_importance.importances_mean.argsort()\n",
    "plt.barh(X_test.columns[sorted_idx], perm_importance.importances_mean[sorted_idx])\n",
    "plt.xlabel(\"Permutation Importance\")"
   ]
  },
  {
   "cell_type": "code",
   "execution_count": null,
   "id": "ac4275d1",
   "metadata": {},
   "outputs": [],
   "source": [
    "plt.savefig('model_3_feature_important.jpg')\n"
   ]
  },
  {
   "cell_type": "code",
   "execution_count": null,
   "id": "46cedb4c",
   "metadata": {},
   "outputs": [],
   "source": []
  },
  {
   "cell_type": "code",
   "execution_count": null,
   "id": "46a8b621",
   "metadata": {},
   "outputs": [],
   "source": []
  },
  {
   "cell_type": "code",
   "execution_count": null,
   "id": "e8fec225",
   "metadata": {},
   "outputs": [],
   "source": []
  },
  {
   "cell_type": "code",
   "execution_count": null,
   "id": "bc1a584c",
   "metadata": {},
   "outputs": [],
   "source": []
  },
  {
   "cell_type": "code",
   "execution_count": null,
   "id": "c09135a3",
   "metadata": {},
   "outputs": [],
   "source": []
  },
  {
   "cell_type": "code",
   "execution_count": null,
   "id": "2bd3ce38",
   "metadata": {},
   "outputs": [],
   "source": []
  }
 ],
 "metadata": {
  "kernelspec": {
   "display_name": "Python 3 (ipykernel)",
   "language": "python",
   "name": "python3"
  },
  "language_info": {
   "codemirror_mode": {
    "name": "ipython",
    "version": 3
   },
   "file_extension": ".py",
   "mimetype": "text/x-python",
   "name": "python",
   "nbconvert_exporter": "python",
   "pygments_lexer": "ipython3",
   "version": "3.9.12"
  }
 },
 "nbformat": 4,
 "nbformat_minor": 5
}
