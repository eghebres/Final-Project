{
 "cells": [
  {
   "cell_type": "code",
   "execution_count": null,
   "id": "1d304ae5",
   "metadata": {},
   "outputs": [],
   "source": [
    "import numpy as np\n",
    "import matplotlib.pyplot as plt\n",
    "import seaborn as sns \n",
    "import pandas as pd\n",
    "import matplotlib.pyplot as plt\n",
    "import numpy as np\n",
    "import plotly.express as px\n",
    "import seaborn\n",
    "from pandas.plotting import parallel_coordinates\n",
    "import datetime as dt\n",
    "from scipy import stats\n",
    "from sklearn import preprocessing\n",
    "from sklearn.model_selection import KFold\n",
    "from sklearn.linear_model import LinearRegression\n",
    "from sklearn.metrics import mean_squared_error, r2_score\n",
    "\n",
    "%matplotlib inline"
   ]
  },
  {
   "cell_type": "code",
   "execution_count": null,
   "id": "074dbdb4",
   "metadata": {},
   "outputs": [],
   "source": [
    "pd.set_option('display.max_columns', None)\n"
   ]
  },
  {
   "cell_type": "code",
   "execution_count": null,
   "id": "89494502",
   "metadata": {},
   "outputs": [],
   "source": [
    "data = pd.read_csv('weather_crime.csv')\n"
   ]
  },
  {
   "cell_type": "code",
   "execution_count": null,
   "id": "db519264",
   "metadata": {
    "scrolled": false
   },
   "outputs": [],
   "source": [
    "data.head()"
   ]
  },
  {
   "cell_type": "code",
   "execution_count": null,
   "id": "36011ff7",
   "metadata": {},
   "outputs": [],
   "source": [
    "data.rename(columns = {'date__of_occurrence':'date_of_occurrence','_primary_description':'primary_description','_secondary_description':'secondary_description','_location_description':'location_description','month_x':'month','day_x':'day','temperaturehigh':'high_temp','temperaturelow':'low_temp'}, inplace = True)\n"
   ]
  },
  {
   "cell_type": "code",
   "execution_count": null,
   "id": "6d520dba",
   "metadata": {},
   "outputs": [],
   "source": [
    "data.head()"
   ]
  },
  {
   "cell_type": "code",
   "execution_count": null,
   "id": "b6a84e8a",
   "metadata": {},
   "outputs": [],
   "source": [
    "data = data.drop(['sunrisetime','sunsettime','temperaturemax','temperaturemin'],axis=1)"
   ]
  },
  {
   "cell_type": "code",
   "execution_count": null,
   "id": "31362eca",
   "metadata": {},
   "outputs": [],
   "source": [
    "data = data.drop(['Unnamed: 0'],axis=1)"
   ]
  },
  {
   "cell_type": "code",
   "execution_count": null,
   "id": "0e4ed4d6",
   "metadata": {},
   "outputs": [],
   "source": [
    "data"
   ]
  },
  {
   "cell_type": "code",
   "execution_count": null,
   "id": "3ce3a7fc",
   "metadata": {},
   "outputs": [],
   "source": [
    "crime_count = pd.DataFrame(data.groupby('primary_description').size().sort_values(ascending=False).rename('counts').reset_index())\n",
    "\n",
    "crime_count.head(31)"
   ]
  },
  {
   "cell_type": "code",
   "execution_count": null,
   "id": "98b25cad",
   "metadata": {},
   "outputs": [],
   "source": [
    "data.columns"
   ]
  },
  {
   "cell_type": "code",
   "execution_count": null,
   "id": "d1402615",
   "metadata": {},
   "outputs": [],
   "source": [
    "import datetime"
   ]
  },
  {
   "cell_type": "code",
   "execution_count": null,
   "id": "162e8cd7",
   "metadata": {
    "scrolled": true
   },
   "outputs": [],
   "source": [
    "datem = datetime.datetime.strptime(, \"%Y-%m-%d %H:%M:%S\")\n",
    "print(datem.year)       # 2021\n",
    "print(datem.hour)       # 11"
   ]
  },
  {
   "cell_type": "code",
   "execution_count": null,
   "id": "72d65a37",
   "metadata": {
    "scrolled": true
   },
   "outputs": [],
   "source": [
    "#Check multicolinearity:\n",
    "correlations_matrix = data.corr()\n",
    "correlations_matrix\n",
    "\n",
    "sns.heatmap(correlations_matrix, annot=True)\n",
    "plt.show()"
   ]
  },
  {
   "cell_type": "code",
   "execution_count": null,
   "id": "7dbc16a7",
   "metadata": {},
   "outputs": [],
   "source": [
    "#Attributes of primary type is plotted in the form of bar to find and analyse highest type crime activity done form 2012 to 2017\n",
    "\n",
    "import seaborn as sns\n",
    "import matplotlib.pyplot as plt\n",
    "sns.set(style=\"whitegrid\")\n",
    "\n",
    "f, ax = plt.subplots(figsize=(10, 15))\n",
    "sns.set_color_codes(\"pastel\")\n",
    "sns.barplot(y=\"primary_description\", x=\"counts\", data=crime_count.iloc[:10, :],label=\"Total\", color=\"grey\")\n",
    "\n",
    "ax.legend(ncol=2, loc=\"lower right\", frameon=True)\n",
    "ax.set(ylabel=\"Type\",xlabel=\"Crimes\")\n",
    "sns.despine(left=True, bottom=True)\n",
    "plt.show()"
   ]
  },
  {
   "cell_type": "code",
   "execution_count": null,
   "id": "7b10924d",
   "metadata": {},
   "outputs": [],
   "source": [
    "b = pd.DataFrame(data ,columns=['primary_description','high_temp'])\n",
    "b"
   ]
  },
  {
   "cell_type": "code",
   "execution_count": null,
   "id": "ebde41b2",
   "metadata": {},
   "outputs": [],
   "source": [
    "violent = ['ASSAULT','BATTERY','CRIM SEXUAL ASSAULT', 'ROBBERY',\n",
    "           'SEX OFFENSE', 'HOMICIDE', 'INTIMIDATION', 'KIDNAPPING', 'SEX']"
   ]
  },
  {
   "cell_type": "code",
   "execution_count": null,
   "id": "b2e78390",
   "metadata": {},
   "outputs": [],
   "source": [
    "# weather = data.loc[date_mask]\n",
    "# crime_chi = crime_chi.loc[date_mask2]"
   ]
  },
  {
   "cell_type": "code",
   "execution_count": null,
   "id": "b3137376",
   "metadata": {},
   "outputs": [],
   "source": [
    "# total_crimes = (crime_chi.groupby(['date']).size())\n",
    "# avg_weather = weather.groupby(['date']).mean()\n",
    "# # print(avg_weather)\n",
    "# # print(total_crimes)"
   ]
  },
  {
   "cell_type": "code",
   "execution_count": null,
   "id": "e8742e79",
   "metadata": {},
   "outputs": [],
   "source": [
    "avg_weather = data.groupby(['date']).mean()"
   ]
  },
  {
   "cell_type": "code",
   "execution_count": null,
   "id": "7ddad19c",
   "metadata": {
    "scrolled": true
   },
   "outputs": [],
   "source": [
    "avg_weather"
   ]
  },
  {
   "cell_type": "code",
   "execution_count": null,
   "id": "c95a273e",
   "metadata": {},
   "outputs": [],
   "source": [
    "# drop rows with 'other offense' as primary description\n",
    "\n"
   ]
  },
  {
   "cell_type": "code",
   "execution_count": null,
   "id": "3677613b",
   "metadata": {},
   "outputs": [],
   "source": [
    "data.isnull().values.any()\n",
    "regr = LinearRegression()\n",
    "# std_dev = 4\n",
    "#getting rid of data that is outside 4 standard deviations.\n",
    "# result = result[(np.abs(stats.zscore(result)) < float(std_dev)).all(axis=1)]\n",
    "X = pd.DataFrame(data['high_temp'])\n",
    "y = pd.DataFrame(data['primary_description'])\n",
    "# print(y)\n",
    "regr.fit(X,y)\n",
    "print(regr.coef_)\n",
    "print(regr.intercept_)\n",
    "pred = regr.predict(X)\n",
    "plt.scatter(data['high_temp'], data['primary_description'], color='g')\n",
    "plt.plot(X, pred, color='b')\n",
    "plt.show()\n",
    "\n",
    "X2 = pd.DataFrame(data['precipintensity'])\n",
    "regr2 = LinearRegression()\n",
    "regr2.fit(X2, y)\n",
    "p2 = regr2.predict(X2)\n",
    "print(regr2.coef_)\n",
    "print(regr2.intercept_)\n",
    "plt.scatter(data['precipintensity'], data['violent'], color='k')\n",
    "plt.plot(X2, p2, color='y')\n",
    "plt.show()"
   ]
  },
  {
   "cell_type": "code",
   "execution_count": null,
   "id": "01b8d7fe",
   "metadata": {},
   "outputs": [],
   "source": []
  },
  {
   "cell_type": "code",
   "execution_count": null,
   "id": "d41c9604",
   "metadata": {},
   "outputs": [],
   "source": []
  },
  {
   "cell_type": "code",
   "execution_count": null,
   "id": "010f524e",
   "metadata": {},
   "outputs": [],
   "source": []
  },
  {
   "cell_type": "code",
   "execution_count": null,
   "id": "ceabca2e",
   "metadata": {},
   "outputs": [],
   "source": []
  },
  {
   "cell_type": "code",
   "execution_count": null,
   "id": "c918ab9d",
   "metadata": {},
   "outputs": [],
   "source": []
  },
  {
   "cell_type": "code",
   "execution_count": null,
   "id": "082f6e95",
   "metadata": {},
   "outputs": [],
   "source": []
  },
  {
   "cell_type": "code",
   "execution_count": null,
   "id": "99e95fef",
   "metadata": {},
   "outputs": [],
   "source": []
  },
  {
   "cell_type": "code",
   "execution_count": null,
   "id": "46c5ce4d",
   "metadata": {},
   "outputs": [],
   "source": []
  },
  {
   "cell_type": "code",
   "execution_count": null,
   "id": "d3a8c192",
   "metadata": {},
   "outputs": [],
   "source": []
  },
  {
   "cell_type": "code",
   "execution_count": null,
   "id": "4f64d5ce",
   "metadata": {},
   "outputs": [],
   "source": []
  },
  {
   "cell_type": "code",
   "execution_count": null,
   "id": "5bc7bda5",
   "metadata": {},
   "outputs": [],
   "source": []
  },
  {
   "cell_type": "code",
   "execution_count": null,
   "id": "3e2337ef",
   "metadata": {},
   "outputs": [],
   "source": []
  },
  {
   "cell_type": "code",
   "execution_count": null,
   "id": "92612dcf",
   "metadata": {},
   "outputs": [],
   "source": []
  },
  {
   "cell_type": "code",
   "execution_count": null,
   "id": "afd126cf",
   "metadata": {},
   "outputs": [],
   "source": []
  },
  {
   "cell_type": "code",
   "execution_count": null,
   "id": "d3a021e8",
   "metadata": {},
   "outputs": [],
   "source": []
  },
  {
   "cell_type": "code",
   "execution_count": null,
   "id": "f4a7ddfd",
   "metadata": {},
   "outputs": [],
   "source": []
  },
  {
   "cell_type": "code",
   "execution_count": null,
   "id": "e70cda74",
   "metadata": {},
   "outputs": [],
   "source": []
  },
  {
   "cell_type": "code",
   "execution_count": null,
   "id": "73ce6cac",
   "metadata": {},
   "outputs": [],
   "source": []
  },
  {
   "cell_type": "code",
   "execution_count": null,
   "id": "4af854cd",
   "metadata": {},
   "outputs": [],
   "source": []
  },
  {
   "cell_type": "code",
   "execution_count": null,
   "id": "967a0a2a",
   "metadata": {},
   "outputs": [],
   "source": []
  },
  {
   "cell_type": "code",
   "execution_count": null,
   "id": "78e94d1b",
   "metadata": {},
   "outputs": [],
   "source": []
  },
  {
   "cell_type": "code",
   "execution_count": null,
   "id": "32acfeb0",
   "metadata": {},
   "outputs": [],
   "source": []
  },
  {
   "cell_type": "code",
   "execution_count": null,
   "id": "bf6a5356",
   "metadata": {},
   "outputs": [],
   "source": []
  },
  {
   "cell_type": "code",
   "execution_count": null,
   "id": "36b216be",
   "metadata": {},
   "outputs": [],
   "source": []
  },
  {
   "cell_type": "code",
   "execution_count": null,
   "id": "8ea3adff",
   "metadata": {},
   "outputs": [],
   "source": []
  },
  {
   "cell_type": "code",
   "execution_count": null,
   "id": "3ec6d4f9",
   "metadata": {},
   "outputs": [],
   "source": []
  },
  {
   "cell_type": "code",
   "execution_count": null,
   "id": "e30e0d7f",
   "metadata": {},
   "outputs": [],
   "source": []
  },
  {
   "cell_type": "code",
   "execution_count": null,
   "id": "c156b3c7",
   "metadata": {},
   "outputs": [],
   "source": []
  },
  {
   "cell_type": "code",
   "execution_count": null,
   "id": "8187a4fc",
   "metadata": {},
   "outputs": [],
   "source": []
  },
  {
   "cell_type": "code",
   "execution_count": null,
   "id": "451901f0",
   "metadata": {},
   "outputs": [],
   "source": [
    "# date = pd.date_range(start=start_date, end=end_date)\n",
    "# new_df = pd.DataFrame({'Date':date, 'Incidents':total_crimes}, )\n",
    "# new_df\n",
    "\n",
    "#create a merged data frame?\n",
    "frames = [data, avg_weather]\n",
    "result = pd.concat(frames, axis=1, sort=True)\n",
    "result = result.dropna()\n",
    "result.columns = ['Incidents','Temp (C)', 'Total Precipitation (mm)']\n",
    "result.plot(kind='Scatter', x='Temp (C)', y='Incidents')\n",
    "result.plot(kind='Scatter', x='Total Precipitation (mm)', y='Incidents', color='r')\n",
    "result.plot()"
   ]
  },
  {
   "cell_type": "code",
   "execution_count": null,
   "id": "b72f3bfd",
   "metadata": {},
   "outputs": [],
   "source": []
  },
  {
   "cell_type": "code",
   "execution_count": null,
   "id": "75a57c63",
   "metadata": {},
   "outputs": [],
   "source": []
  },
  {
   "cell_type": "code",
   "execution_count": null,
   "id": "b093c1db",
   "metadata": {},
   "outputs": [],
   "source": []
  },
  {
   "cell_type": "code",
   "execution_count": null,
   "id": "2bff9a0b",
   "metadata": {},
   "outputs": [],
   "source": []
  },
  {
   "cell_type": "code",
   "execution_count": null,
   "id": "b8422591",
   "metadata": {},
   "outputs": [],
   "source": []
  },
  {
   "cell_type": "code",
   "execution_count": null,
   "id": "6dac2010",
   "metadata": {},
   "outputs": [],
   "source": []
  },
  {
   "cell_type": "code",
   "execution_count": null,
   "id": "1aae53a7",
   "metadata": {},
   "outputs": [],
   "source": []
  },
  {
   "cell_type": "code",
   "execution_count": null,
   "id": "e389a657",
   "metadata": {},
   "outputs": [],
   "source": []
  },
  {
   "cell_type": "code",
   "execution_count": null,
   "id": "803585ae",
   "metadata": {},
   "outputs": [],
   "source": []
  },
  {
   "cell_type": "code",
   "execution_count": null,
   "id": "d35d3d2c",
   "metadata": {},
   "outputs": [],
   "source": []
  },
  {
   "cell_type": "code",
   "execution_count": null,
   "id": "e0afee9c",
   "metadata": {},
   "outputs": [],
   "source": []
  },
  {
   "cell_type": "code",
   "execution_count": null,
   "id": "4d395be2",
   "metadata": {},
   "outputs": [],
   "source": []
  },
  {
   "cell_type": "code",
   "execution_count": null,
   "id": "32f4d5e5",
   "metadata": {},
   "outputs": [],
   "source": []
  },
  {
   "cell_type": "code",
   "execution_count": null,
   "id": "122c0ecd",
   "metadata": {},
   "outputs": [],
   "source": []
  },
  {
   "cell_type": "code",
   "execution_count": null,
   "id": "d8768418",
   "metadata": {},
   "outputs": [],
   "source": []
  },
  {
   "cell_type": "code",
   "execution_count": null,
   "id": "73d6e9d6",
   "metadata": {},
   "outputs": [],
   "source": [
    "# Create bins for temperature data\n",
    "temp_bins = [-100, -20, -10, 0, 10, 20, 30, 100]\n",
    "temp_labels = [\"-100 to -20\", \"-20 to -10\" \"-10 to 0\", \"0 to 10\", \"10 to 20\", \"20 to 30\", \"30 to 100\"]\n",
    "\n",
    "# Bin the Temp column and add it to the dataframe as the Temp. Bin column\n",
    "weather_crime_df['Temp Bin'] = pd.cut(weather_crime_df['Temp'], temp_bins, labels=temp_labels)\n",
    "\n",
    "# Group by temperature bins, counting the number of crimes committed in each bucket\n",
    "grouped_by_temp_bins = weather_crime_df.groupby(['Temp Bin', 'Type'])['Date'].count()\n",
    "\n",
    "grouped_by_temp_bins_ = weather_crime_df.groupby(['Temp Bin', 'Type'])['Date'].count()\n",
    "\n",
    "# Create a Dataframe with the grouped temperature data and reset index for plotting\n",
    "grouped_by_temp_bins_df = pd.DataFrame(grouped_by_temp_bins.reset_index())\n",
    "\n",
    "# Rename columns\n",
    "grouped_by_temp_bins_df.columns = ['Temp Bin', 'Crime Type', 'Number of Crimes']\n",
    "\n",
    "# Pivot Dataframe as preparation for plotting\n",
    "grouped_by_temp_bins_df2 = grouped_by_temp_bins_df.pivot(index='Temp Bin', columns='Crime Type', values = 'Number of Crimes')\n",
    "\n",
    "# Preview Dataframe\n",
    "grouped_by_temp_bins_df2"
   ]
  },
  {
   "cell_type": "code",
   "execution_count": null,
   "id": "a13e4c81",
   "metadata": {},
   "outputs": [],
   "source": []
  },
  {
   "cell_type": "code",
   "execution_count": null,
   "id": "12e8a1a1",
   "metadata": {},
   "outputs": [],
   "source": []
  },
  {
   "cell_type": "code",
   "execution_count": null,
   "id": "ca861c5b",
   "metadata": {},
   "outputs": [],
   "source": []
  },
  {
   "cell_type": "code",
   "execution_count": null,
   "id": "dc63fdde",
   "metadata": {},
   "outputs": [],
   "source": [
    "for cat_var in ['month', 'hour', 'weekday', 'Domestic', 'Arrest', 'District', 'Ward', 'Location Description']:\n",
    "    if cat_var == 'weekday':\n",
    "        # Sort by week\n",
    "        order = ['Monday', 'Tuesday', 'Wednesday', 'Thursday', 'Friday', 'Saturday', 'Sunday']\n",
    "    elif cat_var in ['District', 'Ward', 'Location Description']:\n",
    "        # Sort by frequency\n",
    "        order = data.groupby(by=cat_var).size().sort_values(ascending=False).index\n",
    "    else:\n",
    "        # Do not sort explicitly\n",
    "        order = None\n",
    "    seaborn.catplot(data=data, x=cat_var, kind='count', order=order)\n",
    "    plt.xticks(rotation=90)"
   ]
  },
  {
   "cell_type": "code",
   "execution_count": null,
   "id": "f20f48c3",
   "metadata": {},
   "outputs": [],
   "source": []
  },
  {
   "cell_type": "code",
   "execution_count": null,
   "id": "93971081",
   "metadata": {},
   "outputs": [],
   "source": []
  },
  {
   "cell_type": "code",
   "execution_count": null,
   "id": "24cc2251",
   "metadata": {},
   "outputs": [],
   "source": []
  },
  {
   "cell_type": "code",
   "execution_count": null,
   "id": "0d118ee8",
   "metadata": {},
   "outputs": [],
   "source": []
  },
  {
   "cell_type": "code",
   "execution_count": null,
   "id": "436445dc",
   "metadata": {},
   "outputs": [],
   "source": []
  },
  {
   "cell_type": "code",
   "execution_count": null,
   "id": "11bc2b22",
   "metadata": {},
   "outputs": [],
   "source": []
  },
  {
   "cell_type": "code",
   "execution_count": null,
   "id": "32691f6c",
   "metadata": {},
   "outputs": [],
   "source": []
  },
  {
   "cell_type": "code",
   "execution_count": null,
   "id": "cb115112",
   "metadata": {},
   "outputs": [],
   "source": []
  },
  {
   "cell_type": "code",
   "execution_count": null,
   "id": "a3879a74",
   "metadata": {},
   "outputs": [],
   "source": []
  },
  {
   "cell_type": "code",
   "execution_count": null,
   "id": "da669f5b",
   "metadata": {},
   "outputs": [],
   "source": []
  },
  {
   "cell_type": "code",
   "execution_count": null,
   "id": "c79aa06c",
   "metadata": {},
   "outputs": [],
   "source": []
  },
  {
   "cell_type": "code",
   "execution_count": null,
   "id": "ab8137b0",
   "metadata": {},
   "outputs": [],
   "source": []
  },
  {
   "cell_type": "code",
   "execution_count": null,
   "id": "1bc0b5d1",
   "metadata": {},
   "outputs": [],
   "source": []
  },
  {
   "cell_type": "code",
   "execution_count": null,
   "id": "f8f378b0",
   "metadata": {},
   "outputs": [],
   "source": []
  }
 ],
 "metadata": {
  "kernelspec": {
   "display_name": "Python 3 (ipykernel)",
   "language": "python",
   "name": "python3"
  },
  "language_info": {
   "codemirror_mode": {
    "name": "ipython",
    "version": 3
   },
   "file_extension": ".py",
   "mimetype": "text/x-python",
   "name": "python",
   "nbconvert_exporter": "python",
   "pygments_lexer": "ipython3",
   "version": "3.9.12"
  }
 },
 "nbformat": 4,
 "nbformat_minor": 5
}
