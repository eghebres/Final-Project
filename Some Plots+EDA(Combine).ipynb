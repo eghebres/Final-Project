{
 "cells": [
  {
   "cell_type": "code",
   "execution_count": null,
   "id": "c0995e22",
   "metadata": {},
   "outputs": [],
   "source": [
    "import requests\n",
    "from pprint import pprint\n",
    "import pandas as pd\n",
    "import matplotlib.pyplot as plt\n",
    "import numpy as np\n",
    "from datetime import datetime\n",
    "import math\n",
    "import seaborn as sns\n",
    "import scipy.stats as stats"
   ]
  },
  {
   "cell_type": "code",
   "execution_count": null,
   "id": "b12eb7ed",
   "metadata": {},
   "outputs": [],
   "source": [
    "# PULLING AND CLEANING CRIME DATA"
   ]
  },
  {
   "cell_type": "code",
   "execution_count": null,
   "id": "8ab772f3",
   "metadata": {},
   "outputs": [],
   "source": [
    "crime_df = pd.read_csv('Crimes_-_2021.csv')"
   ]
  },
  {
   "cell_type": "code",
   "execution_count": null,
   "id": "3895d472",
   "metadata": {
    "scrolled": true
   },
   "outputs": [],
   "source": [
    "weather_df = pd.read_csv('weather_api .csv',low_memory=False,index_col=0)\n",
    "weather_df"
   ]
  },
  {
   "cell_type": "code",
   "execution_count": null,
   "id": "976a0c52",
   "metadata": {
    "scrolled": true
   },
   "outputs": [],
   "source": [
    "weather_df.index = pd.to_datetime(weather_df.index)\n",
    "weather_df"
   ]
  },
  {
   "cell_type": "code",
   "execution_count": null,
   "id": "a5b73128",
   "metadata": {},
   "outputs": [],
   "source": [
    "sns.set_style('darkgrid')\n",
    "weather_df"
   ]
  },
  {
   "cell_type": "code",
   "execution_count": null,
   "id": "0779b4d6",
   "metadata": {},
   "outputs": [],
   "source": [
    "weather_df.describe()"
   ]
  },
  {
   "cell_type": "code",
   "execution_count": null,
   "id": "cbc9e66b",
   "metadata": {},
   "outputs": [],
   "source": [
    "weather_df.info()"
   ]
  },
  {
   "cell_type": "code",
   "execution_count": null,
   "id": "d23cc015",
   "metadata": {
    "scrolled": true
   },
   "outputs": [],
   "source": [
    "print(\"The names of the features :\\n\", list(weather_df.columns))"
   ]
  },
  {
   "cell_type": "code",
   "execution_count": null,
   "id": "79b38b20",
   "metadata": {},
   "outputs": [],
   "source": [
    "cols_1 = []\n",
    "for column in weather_df.columns:\n",
    "    cols_1.append(column.lower())\n",
    "weather_df.columns = cols_1\n",
    "\n",
    "print(weather_df.columns)"
   ]
  },
  {
   "cell_type": "code",
   "execution_count": null,
   "id": "a585d4d1",
   "metadata": {},
   "outputs": [],
   "source": [
    "weather_df = weather_df.drop(['temperaturemaxtime','windgust','apparenttemperaturehigh','apparenttemperaturelow','apparenttemperaturemin','apparenttemperaturemax','time','preciptype','apparenttemperaturehightime','humidity','precipprobability','pressure','windspeed','windgusttime','windbearing','cloudcover','uvindex','uvindextime','visibility','ozone','precipaccumulation','precipintensitymax','precipintensitymaxtime','apparenttemperaturemaxtime','apparenttemperaturemintime','temperaturemintime','apparenttemperaturelowtime','apparenttemperaturehightime','temperaturelowtime','temperaturehightime'], axis=1)\n"
   ]
  },
  {
   "cell_type": "code",
   "execution_count": null,
   "id": "47eac0fc",
   "metadata": {},
   "outputs": [],
   "source": [
    "weather_df"
   ]
  },
  {
   "cell_type": "code",
   "execution_count": null,
   "id": "065f5628",
   "metadata": {},
   "outputs": [],
   "source": [
    "cols_1 = []\n",
    "for column in weather_df.columns:\n",
    "    cols_1.append(column.upper())\n",
    "weather_df.columns = cols_1\n",
    "\n",
    "print(weather_df.columns)"
   ]
  },
  {
   "cell_type": "code",
   "execution_count": null,
   "id": "89d64acd",
   "metadata": {},
   "outputs": [],
   "source": []
  },
  {
   "cell_type": "code",
   "execution_count": null,
   "id": "0b24409b",
   "metadata": {},
   "outputs": [],
   "source": []
  },
  {
   "cell_type": "code",
   "execution_count": null,
   "id": "af8bf60a",
   "metadata": {},
   "outputs": [],
   "source": [
    "weather_df.index = pd.to_datetime(weather_df.index)\n",
    "weather_df['PrecipitationIn'] = weather_df['PrecipitationIn'].replace('T',np.nan)\n",
    "weather_df['PrecipitationIn'] = weather_df['PrecipitationIn'].dropna().astype(float)\n",
    "weather_df.tail()"
   ]
  },
  {
   "cell_type": "code",
   "execution_count": null,
   "id": "36eba1f6",
   "metadata": {},
   "outputs": [],
   "source": [
    "# # Store lists into a dataframe\n",
    "# crime_df = pd.DataFrame({'Date': date_of_crime,\n",
    "#                          'Day_of_week': day_of_week_crime,\n",
    "#                          'Type': crime_type_list})\n",
    "\n",
    "# crime_df.head()"
   ]
  },
  {
   "cell_type": "code",
   "execution_count": null,
   "id": "fca2e1d8",
   "metadata": {
    "scrolled": true
   },
   "outputs": [],
   "source": [
    "crime_df.describe()\n"
   ]
  },
  {
   "cell_type": "code",
   "execution_count": null,
   "id": "5e508fde",
   "metadata": {},
   "outputs": [],
   "source": [
    "crime_df.shape"
   ]
  },
  {
   "cell_type": "code",
   "execution_count": null,
   "id": "9d28a0cc",
   "metadata": {},
   "outputs": [],
   "source": [
    "crime_df.info()"
   ]
  },
  {
   "cell_type": "code",
   "execution_count": null,
   "id": "67822176",
   "metadata": {},
   "outputs": [],
   "source": [
    "sns.set_style('darkgrid')\n"
   ]
  },
  {
   "cell_type": "code",
   "execution_count": null,
   "id": "46076aec",
   "metadata": {},
   "outputs": [],
   "source": [
    "crime_df.head()"
   ]
  },
  {
   "cell_type": "code",
   "execution_count": null,
   "id": "c78b9aa9",
   "metadata": {},
   "outputs": [],
   "source": [
    "# names of features\n",
    "print(\"The names of the features :\\n\", list(crime_df.columns))"
   ]
  },
  {
   "cell_type": "code",
   "execution_count": null,
   "id": "5989c3b6",
   "metadata": {},
   "outputs": [],
   "source": [
    "# Number of distinct crimes in Chicago\n",
    "crimes = crime_df['Primary Type'].unique()\n",
    "print(\"The Number of distinct crimes in Chicago in the year 2018:\", len(crimes))\n",
    "print()\n",
    "print(\"The Distinct Crimes are :\\n\", crimes)"
   ]
  },
  {
   "cell_type": "code",
   "execution_count": null,
   "id": "89e61c87",
   "metadata": {},
   "outputs": [],
   "source": [
    "# DEALING WITH MISSING VALUES\n",
    "print(\"Number of Missing Values in the whole dataset : \", crime_df.isna().sum().sum())\n"
   ]
  },
  {
   "cell_type": "code",
   "execution_count": null,
   "id": "3f08ce7c",
   "metadata": {},
   "outputs": [],
   "source": [
    "crime_df.isna().sum()"
   ]
  },
  {
   "cell_type": "code",
   "execution_count": null,
   "id": "cfd42ad3",
   "metadata": {},
   "outputs": [],
   "source": [
    "# Let's count number of null entries per feature\n",
    "missing_values = list(crime_df.isna().sum())\n",
    "# missing values is a list of the number of missing values in each column\n",
    "\n",
    "cols = list(crime_df.columns)\n",
    "col_final = []\n",
    "for i in range(len(cols)):\n",
    "    if (missing_values[i] == 0):\n",
    "        cols[i]=\"Others\"\n",
    "d = dict(zip(cols, missing_values)) # making a dicionary for the missing values\n",
    "\n",
    "print(\"Number of Missing Values per feature >>\")\n",
    "missing_vals = pd.DataFrame(d, index=[\"Missing Values\"]) # Making a custom dataframe from dict d\n",
    "missing_vals.head()"
   ]
  },
  {
   "cell_type": "code",
   "execution_count": null,
   "id": "d2109bea",
   "metadata": {},
   "outputs": [],
   "source": [
    "# Plotting the missing values in the dataset\n",
    "x = list(d.keys())\n",
    "y = list(d.values())\n",
    "sns.barplot(x=x, y=y, palette=\"GnBu_d\")\n",
    "plt.xticks(rotation=90)\n",
    "plt.title(\"Missing Values in the Dataset\", fontdict = {'fontsize': 20})\n",
    "plt.ylabel(\"Count of missing values\", fontdict={'fontsize': 15})\n",
    "plt.show()"
   ]
  },
  {
   "cell_type": "code",
   "execution_count": null,
   "id": "ebb78034",
   "metadata": {},
   "outputs": [],
   "source": [
    "# The simplest cleaning technique here would be to drop all the rows with atleast one missing value\n",
    "crime_df = crime_df.dropna()\n",
    "crime_df.info()"
   ]
  },
  {
   "cell_type": "code",
   "execution_count": null,
   "id": "c95f2311",
   "metadata": {},
   "outputs": [],
   "source": [
    "# MOST COMMON CRIMES IN CHICAGO"
   ]
  },
  {
   "cell_type": "code",
   "execution_count": null,
   "id": "57e166d3",
   "metadata": {},
   "outputs": [],
   "source": [
    "# Set the style of the plot first\n",
    "plt.style.use('seaborn')\n",
    "\n",
    "# Filter out the Top 5 crimes\n",
    "top_5_crimes = crime_df['Primary Type'].value_counts().sort_values(ascending=False).head()\n",
    "\n",
    "temp = crime_df.groupby('Primary Type', as_index=False).agg({\"ID\": \"count\"})\n",
    "temp = temp.sort_values(by=['ID'], ascending=False).head()\n",
    "temp = temp.sort_values(by='ID', ascending=True)\n",
    "sns.barplot(x='ID', y='Primary Type', data=temp, palette=\"Blues_d\")\n",
    "\n",
    "# Work on the aestehtic appeal of the plot\n",
    "plt.title(\"Top 5 Crimes in Chicago\", fontdict = {'fontsize': 30, 'fontname':'Arial', 'color': '#000000'})\n",
    "plt.xlabel(\"\\nCOUNT OF CRIMES\", fontdict = {'fontsize': 15})\n",
    "plt.ylabel(\"\")\n",
    "plt.xticks(rotation=90)\n",
    "plt.show()\n",
    "#plt.show()"
   ]
  },
  {
   "cell_type": "code",
   "execution_count": null,
   "id": "03486c52",
   "metadata": {},
   "outputs": [],
   "source": [
    "# Doing a bit of df manipulation for using bokeh\n",
    "temp.head()\n",
    "temp.columns=['Crime','Number']\n",
    "temp.index=[0,1,2,3,4]\n",
    "temp['co-ordinates']=[1,2,3,4,5]\n",
    "temp.head()"
   ]
  },
  {
   "cell_type": "code",
   "execution_count": null,
   "id": "318c5564",
   "metadata": {},
   "outputs": [],
   "source": [
    "crime_df['Datetime'] = pd.to_datetime(crime_df['Date'],format=\"%m/%d/%Y %I:%M:%S %p\")\n",
    "crime_df['Date'] = crime_df['Datetime'].apply(lambda x:x.date())\n",
    "crime_df['Weekday'] = crime_df['Datetime'].apply(lambda x:x.weekday())\n",
    "crime_df['Hour'] = crime_df['Datetime'].apply(lambda x:x.hour)\n",
    "crime_df['Day'] = crime_df['Datetime'].apply(lambda x:x.day)\n",
    "crime_df['Week'] = crime_df['Datetime'].apply(lambda x:x.week)\n",
    "crime_df['Month'] = crime_df['Datetime'].apply(lambda x:x.month)\n",
    "\n",
    "crime_df.head()"
   ]
  },
  {
   "cell_type": "code",
   "execution_count": null,
   "id": "2c6f350e",
   "metadata": {},
   "outputs": [],
   "source": [
    "from collections import Counter\n",
    "\n",
    "dict(Counter(crime_df['Primary Type']))"
   ]
  },
  {
   "cell_type": "code",
   "execution_count": null,
   "id": "677f9651",
   "metadata": {},
   "outputs": [],
   "source": [
    "personal_crimes = ['ASSAULT','BATTERY','CRIM SEXUAL ASSAULT','HOMICIDE']\n",
    "property_crimes = ['ARSON','BURGLARY','MOTOR VEHICLE THEFT','ROBBERY','THEFT']"
   ]
  },
  {
   "cell_type": "code",
   "execution_count": null,
   "id": "5b4a623a",
   "metadata": {},
   "outputs": [],
   "source": [
    "arson_gb = crime_df[crime_df['Primary Type'] == 'ARSON'].groupby('Date')['ID'].agg(len)\n",
    "assault_gb = crime_df[crime_df['Primary Type'] == 'ASSAULT'].groupby('Date')['ID'].agg(len)\n",
    "battery_gb = crime_df[crime_df['Primary Type'] == 'BATTERY'].groupby('Date')['ID'].agg(len)\n",
    "burglary_gb = crime_df[crime_df['Primary Type'] == 'BURGLARY'].groupby('Date')['ID'].agg(len)\n",
    "homicide_gb = crime_df[crime_df['Primary Type'] == 'HOMICIDE'].groupby('Date')['ID'].agg(len)\n",
    "sexual_assault_gb = crime_df[crime_df['Primary Type'] == 'CRIM SEXUAL ASSAULT'].groupby('Date')['ID'].agg(len)\n",
    "robbery_gb = crime_df[crime_df['Primary Type'] == 'ROBBERY'].groupby('Date')['ID'].agg(len)\n",
    "theft_gb = crime_df[crime_df['Primary Type'] == 'THEFT'].groupby('Date')['ID'].agg(len)\n",
    "vehicle_theft_gb = crime_df[crime_df['Primary Type'] == 'MOTOR VEHICLE THEFT'].groupby('Date')['ID'].agg(len)\n",
    "personal_gb = crime_df[crime_df['Primary Type'].isin(personal_crimes)].groupby('Date')['ID'].agg(len)\n",
    "property_gb = crime_df[crime_df['Primary Type'].isin(property_crimes)].groupby('Date')['ID'].agg(len)\n",
    "\n",
    "arson_gb.index = pd.to_datetime(arson_gb.index)\n",
    "assault_gb.index = pd.to_datetime(assault_gb.index)\n",
    "battery_gb.index = pd.to_datetime(battery_gb.index)\n",
    "burglary_gb.index = pd.to_datetime(burglary_gb.index)\n",
    "homicide_gb.index = pd.to_datetime(homicide_gb.index)\n",
    "sexual_assault_gb.index = pd.to_datetime(sexual_assault_gb.index)\n",
    "robbery_gb.index = pd.to_datetime(robbery_gb.index)\n",
    "theft_gb.index = pd.to_datetime(theft_gb.index)\n",
    "vehicle_theft_gb.index = pd.to_datetime(vehicle_theft_gb.index)\n",
    "personal_gb.index = pd.to_datetime(personal_gb.index)\n",
    "property_gb.index = pd.to_datetime(property_gb.index)"
   ]
  },
  {
   "cell_type": "code",
   "execution_count": null,
   "id": "b5aa3eeb",
   "metadata": {},
   "outputs": [],
   "source": [
    "# ts = pd.DataFrame({'Arson':arson_gb.loc[:'2021-12-31'],\n",
    "#                    'Assault':assault_gb.loc[:'2021-12-31'],\n",
    "#                    'Battery':battery_gb.loc[:'2021-12-31'],\n",
    "#                    'Burglary':burglary_gb.loc[:'2021-12-31'],\n",
    "#                    'Homicide':homicide_gb.loc[:'2021-12-31'],\n",
    "#                    'Sexual_assault':sexual_assault_gb.loc[:'2021-12-31'],\n",
    "#                    'Robbery':robbery_gb.loc[:'2021-12-31'],\n",
    "#                    'Vehicle_theft':vehicle_theft_gb.loc[:'2021-12-31'],\n",
    "#                    'Theft':theft_gb.loc[:'2021-12-31'],\n",
    "#                    'Personal':personal_gb.loc[:'2021-12-31'],\n",
    "#                    'Property':property_gb.loc[:'2021-12-31'],\n",
    "#                    'Temperature':weather_df['Mean TemperatureF'].loc[:'2021-12-31'],\n",
    "#                    'Binned temperature':weather_df['Mean TemperatureF'].loc[:'2021-12-31']//10.*10,\n",
    "#                    'Humidity':weather_df[' Mean Humidity'].loc[:'2021-12-31'],\n",
    "#                    'Precipitation':weather_df['PrecipitationIn'].loc[:'2021-12-31']\n",
    "#                    })\n",
    "# ts"
   ]
  },
  {
   "cell_type": "code",
   "execution_count": null,
   "id": "3e607435",
   "metadata": {},
   "outputs": [],
   "source": [
    "from bokeh.plotting import figure\n",
    "from bokeh.io import show, output_notebook\n",
    "from bokeh.models import ColumnDataSource, HoverTool\n",
    "\n",
    "temp_cds = ColumnDataSource(temp)\n",
    "\n",
    "fig1 = figure(plot_width=700, plot_height=400, title=\"Most occuring Criminal Offences in Chicago\",\n",
    "             x_axis_label=\"Count of Crimes\", y_axis_label=\"Crime Type\", x_range=(0, 70000))\n",
    "\n",
    "fig1.title.align = \"left\"\n",
    "fig1.title.text_color = \"black\"\n",
    "fig1.title.text_font_size = \"20px\"\n",
    "\n",
    "fig1.hbar(y='co-ordinates', right='Number', source=temp_cds, left=0, color='red', alpha=0.5, height=0.50)\n",
    "fig1.yaxis.major_label_overrides = {5: 'Theft', 4:'Battery', 3:'Criminal Damage', 2:'Assault',\n",
    "                                   1:'Deceptive Practice'}\n",
    "\n",
    "# Adding passive interactivity\n",
    "tooltips = [\n",
    "    ('Number of Crimes', '@Number'),\n",
    "]\n",
    "\n",
    "#fig1.legend.location\n",
    "fig1.add_tools(HoverTool(tooltips=tooltips))\n",
    "\n",
    "output_notebook()\n",
    "show(fig1)"
   ]
  },
  {
   "cell_type": "code",
   "execution_count": null,
   "id": "684c1304",
   "metadata": {},
   "outputs": [],
   "source": [
    "# Testing out the time and date conversion for one entry\n",
    "\n",
    "# t = crime_df['Date'][20]\n",
    "# print(t)\n",
    "# s1 = t[:11] \n",
    "# print(s1)\n",
    "# s2 = t[11:]\n",
    "# print(s2)\n",
    "\n",
    "# print(s2)\n",
    "# hr = s2[:2]\n",
    "# mins = s2[3:5]\n",
    "# sec = s2[6:8]\n",
    "# time_frame = s2[9:]\n",
    "# if(time_frame == 'PM'):\n",
    "#     if (int(hr) != 12):\n",
    "#         hr = str(int(hr) + 12)\n",
    "# else:\n",
    "#     if(int(hr) == 12):\n",
    "#         hr = '00'\n",
    "\n",
    "# print(hr, mins, sec)"
   ]
  },
  {
   "cell_type": "code",
   "execution_count": null,
   "id": "3d2e3d39",
   "metadata": {},
   "outputs": [],
   "source": [
    "# Time Conversion Function\n",
    "def time_convert(date_time):\n",
    "    s1 = date_time[:11]\n",
    "    s2 = date_time[11:]\n",
    "    \n",
    "    month = s1[:2]\n",
    "    date = s1[3:5]\n",
    "    year = s1[6:10]\n",
    "    \n",
    "    hr = s2[:2]\n",
    "    mins = s2[3:5]\n",
    "    sec = s2[6:8]\n",
    "    time_frame = s2[9:]\n",
    "    if(time_frame == 'PM'):\n",
    "        if (int(hr) != 12):\n",
    "            hr = str(int(hr) + 12)\n",
    "    else:\n",
    "        if(int(hr) == 12):\n",
    "            hr = '00'\n",
    "    \n",
    "    final_date = datetime(int(year), int(month), int(date), int(hr), int(mins), int(sec))\n",
    "    return final_date"
   ]
  },
  {
   "cell_type": "code",
   "execution_count": null,
   "id": "f58cd267",
   "metadata": {},
   "outputs": [],
   "source": [
    "weather_df"
   ]
  },
  {
   "cell_type": "code",
   "execution_count": null,
   "id": "fcc3a37f",
   "metadata": {},
   "outputs": [],
   "source": [
    "crime_df"
   ]
  },
  {
   "cell_type": "code",
   "execution_count": null,
   "id": "55fa673f",
   "metadata": {},
   "outputs": [],
   "source": [
    "cols_1 = []\n",
    "for column in crime_df.columns:\n",
    "    cols_1.append(column.upper())\n",
    "crime_df.columns = cols_1\n",
    "\n",
    "print(crime_df.columns)"
   ]
  },
  {
   "cell_type": "code",
   "execution_count": null,
   "id": "d101f08b",
   "metadata": {},
   "outputs": [],
   "source": []
  },
  {
   "cell_type": "code",
   "execution_count": null,
   "id": "05e42019",
   "metadata": {},
   "outputs": [],
   "source": []
  },
  {
   "cell_type": "code",
   "execution_count": null,
   "id": "17c02c12",
   "metadata": {},
   "outputs": [],
   "source": [
    "# Merge weather and crime dataframes, dropping crime records with no matching weather data (i.e. Feb 29, 2016)\n",
    "weather_crime_df = pd.merge(crime_df,weather_df,how='left', on='DATE').dropna()\n",
    "weather_crime_df.head()"
   ]
  },
  {
   "cell_type": "code",
   "execution_count": null,
   "id": "9adebb9d",
   "metadata": {},
   "outputs": [],
   "source": []
  },
  {
   "cell_type": "code",
   "execution_count": null,
   "id": "79d8b3f7",
   "metadata": {},
   "outputs": [],
   "source": []
  },
  {
   "cell_type": "code",
   "execution_count": null,
   "id": "1c2076bd",
   "metadata": {},
   "outputs": [],
   "source": []
  },
  {
   "cell_type": "code",
   "execution_count": null,
   "id": "befc1ae7",
   "metadata": {},
   "outputs": [],
   "source": []
  },
  {
   "cell_type": "code",
   "execution_count": null,
   "id": "0475e6e4",
   "metadata": {},
   "outputs": [],
   "source": []
  },
  {
   "cell_type": "code",
   "execution_count": null,
   "id": "1ba40e5e",
   "metadata": {},
   "outputs": [],
   "source": []
  },
  {
   "cell_type": "code",
   "execution_count": null,
   "id": "728f8164",
   "metadata": {},
   "outputs": [],
   "source": []
  },
  {
   "cell_type": "code",
   "execution_count": null,
   "id": "1bcbd49e",
   "metadata": {},
   "outputs": [],
   "source": []
  },
  {
   "cell_type": "code",
   "execution_count": null,
   "id": "78c21520",
   "metadata": {},
   "outputs": [],
   "source": []
  },
  {
   "cell_type": "code",
   "execution_count": null,
   "id": "dc87643f",
   "metadata": {},
   "outputs": [],
   "source": []
  },
  {
   "cell_type": "code",
   "execution_count": null,
   "id": "cc7370c2",
   "metadata": {},
   "outputs": [],
   "source": []
  },
  {
   "cell_type": "code",
   "execution_count": null,
   "id": "ff685c16",
   "metadata": {},
   "outputs": [],
   "source": []
  },
  {
   "cell_type": "code",
   "execution_count": null,
   "id": "3ee33265",
   "metadata": {},
   "outputs": [],
   "source": []
  },
  {
   "cell_type": "code",
   "execution_count": null,
   "id": "f1bc6174",
   "metadata": {},
   "outputs": [],
   "source": []
  },
  {
   "cell_type": "code",
   "execution_count": null,
   "id": "a7c8b2ab",
   "metadata": {},
   "outputs": [],
   "source": []
  },
  {
   "cell_type": "code",
   "execution_count": null,
   "id": "e605a182",
   "metadata": {},
   "outputs": [],
   "source": []
  },
  {
   "cell_type": "code",
   "execution_count": null,
   "id": "5f1d2061",
   "metadata": {},
   "outputs": [],
   "source": []
  },
  {
   "cell_type": "code",
   "execution_count": null,
   "id": "8652d75e",
   "metadata": {},
   "outputs": [],
   "source": []
  },
  {
   "cell_type": "code",
   "execution_count": null,
   "id": "34727d66",
   "metadata": {},
   "outputs": [],
   "source": []
  },
  {
   "cell_type": "code",
   "execution_count": null,
   "id": "ef1212fd",
   "metadata": {},
   "outputs": [],
   "source": []
  },
  {
   "cell_type": "code",
   "execution_count": null,
   "id": "4fc287fd",
   "metadata": {},
   "outputs": [],
   "source": []
  },
  {
   "cell_type": "code",
   "execution_count": null,
   "id": "3a507990",
   "metadata": {},
   "outputs": [],
   "source": []
  },
  {
   "cell_type": "code",
   "execution_count": null,
   "id": "9fcc485e",
   "metadata": {},
   "outputs": [],
   "source": []
  },
  {
   "cell_type": "code",
   "execution_count": null,
   "id": "5d2599bd",
   "metadata": {},
   "outputs": [],
   "source": [
    "# Histogram by Type of Crime\n",
    "sb.set()\n",
    "plt.figure(figsize=(10,5))\n",
    "plt.title('Number of Crimes in Toronto by Type (2014-2017)', fontsize = 14, fontweight = 'bold')\n",
    "plt.xlabel('Major Crime Indicator', fontweight = 'bold')\n",
    "plt.ylabel('Number of Crimes (2014-2017)', fontweight = 'bold')\n",
    "plt.hist(crime_type_list)\n",
    "\n",
    "# Save figure and show it\n",
    "plt.savefig('Number of Crimes in Toronto by Type (2014-2017)')\n",
    "plt.show()"
   ]
  },
  {
   "cell_type": "code",
   "execution_count": null,
   "id": "ab1188b3",
   "metadata": {},
   "outputs": [],
   "source": [
    "# Prepare data for plotting number of crimes by year\n",
    "crimes_2014 = crime_df[crime_df.Date.str.startswith('2014')] # 31578 records\n",
    "crimes_2015 = crime_df[crime_df.Date.str.startswith('2015')] # 32197 records\n",
    "crimes_2016 = crime_df[crime_df.Date.str.startswith('2016')] # 32601 records\n",
    "crimes_2017 = crime_df[crime_df.Date.str.startswith('2017')] # 33791 records\n",
    "num_crimes_2014 = crimes_2014.groupby('Type').count()['Date'] \n",
    "num_crimes_2015 = crimes_2015.groupby('Type').count()['Date']\n",
    "num_crimes_2016 = crimes_2016.groupby('Type').count()['Date']\n",
    "num_crimes_2017 = crimes_2017.groupby('Type').count()['Date']\n",
    "crime_type_by_year_df = pd.DataFrame({'2014': num_crimes_2014,\n",
    "                                     '2015': num_crimes_2015,\n",
    "                                     '2016': num_crimes_2016,\n",
    "                                     '2017': num_crimes_2017})\n",
    "\n",
    "# Create Line Plot of the Number of Crimes By Year\n",
    "fig = plt.figure(figsize=(10,5))\n",
    "ax = fig.add_subplot(1,1,1)\n",
    "plt.plot(crime_type_by_year_df.T, marker = 'o')\n",
    "plt.title('Number of Crimes in Toronto by Year (2014-2017)', fontsize = 14, fontweight = 'bold')\n",
    "plt.xlabel('Year', fontweight = 'bold')\n",
    "plt.ylabel('Number of Crimes (2014-2017)', fontweight = 'bold')\n",
    "leg = plt.legend(crime_type_by_year_df.index, loc = 'upper right')\n",
    "\n",
    "# Get the bounding box of the original legend\n",
    "bb = leg.get_bbox_to_anchor().inverse_transformed(ax.transAxes)\n",
    "\n",
    "# Change to location of the legend\n",
    "xOffset = 0.25\n",
    "bb.x0 += xOffset\n",
    "bb.x1 += xOffset\n",
    "leg.set_bbox_to_anchor(bb, transform = ax.transAxes)\n",
    "\n",
    "# Save figure and show it\n",
    "plt.savefig('Number of Crimes in Toronto by Year (2014-2017).png', dpi=199)\n",
    "plt.show()\n",
    "crime_type_by_year_df\n"
   ]
  },
  {
   "cell_type": "code",
   "execution_count": null,
   "id": "ac45f1cd",
   "metadata": {},
   "outputs": [],
   "source": []
  },
  {
   "cell_type": "code",
   "execution_count": null,
   "id": "aab43e70",
   "metadata": {},
   "outputs": [],
   "source": [
    "# PULLING AND CLEANING WEATHER DATA"
   ]
  },
  {
   "cell_type": "code",
   "execution_count": null,
   "id": "11e1811e",
   "metadata": {},
   "outputs": [],
   "source": [
    "apikey = \"56b161f544224f85b0e180450181711\""
   ]
  },
  {
   "cell_type": "code",
   "execution_count": null,
   "id": "c45cc6f3",
   "metadata": {},
   "outputs": [],
   "source": [
    "# Prepare lists for storing weather data\n",
    "date_list = []\n",
    "temp_list = []\n",
    "moon_list = []\n",
    "rain_list = []\n",
    "years_of_interest = ['2014', '2015', '2016', '2017']\n",
    "months_of_interest = ['01', '02', '03', '04', '05', '06', '07', '08', '09', '10', '11', '12']\n",
    "last_day_of_month = ['31', '28', '31', '30', '31', '30', '31', '31', '30', '31', '30', '31']\n",
    "\n",
    "for year in years_of_interest:\n",
    "    for i in range(12):\n",
    "        \n",
    "        # Prepare start and end dates for query\n",
    "        start_date = f\"{year}-{months_of_interest[i]}-01\"\n",
    "        end_date = f\"{year}-{months_of_interest[i]}-{last_day_of_month[i]}\"\n",
    "        \n",
    "        # Prepare url (24hr average)\n",
    "        weather_url = f\"http://api.worldweatheronline.com/premium/v1/past-weather.ashx?key={apikey}&q=Toronto&format=json&date={start_date}&enddate={end_date}&tp=24\"\n",
    "        # Request and store json data\n",
    "        data = requests.get(weather_url).json()\n",
    "        \n",
    "        for day in range(len(data['data']['weather'])):\n",
    "            # Date\n",
    "            date_list.append(data['data']['weather'][day]['date'])\n",
    "\n",
    "            # Temperature\n",
    "            temp_list.append(data['data']['weather'][day]['hourly'][0]['tempC'])\n",
    "\n",
    "            # Precipitation\n",
    "            rain_list.append(data['data']['weather'][day]['hourly'][0]['precipMM'])\n",
    "\n",
    "            # Moon_phase\n",
    "            moon_list.append(data['data']['weather'][day]['astronomy'][0]['moon_phase'])\n",
    "\n",
    "# Store lists into a dataframe\n",
    "weather_df = pd.DataFrame({'Date': date_list,\n",
    "                          'Temp': temp_list,\n",
    "                          'Precip': rain_list,\n",
    "                          'Moon Phase': moon_list})\n",
    "        "
   ]
  },
  {
   "cell_type": "code",
   "execution_count": null,
   "id": "65971fba",
   "metadata": {},
   "outputs": [],
   "source": [
    "# Convert Temp and Precip in dataframe from objects to floats\n",
    "weather_df['Temp'] = pd.to_numeric(weather_df['Temp'], errors='ignore')\n",
    "weather_df['Precip'] = pd.to_numeric(weather_df['Precip'], errors='ignore')\n",
    "\n",
    "weather_df.head()"
   ]
  },
  {
   "cell_type": "code",
   "execution_count": null,
   "id": "18367d10",
   "metadata": {},
   "outputs": [],
   "source": [
    "# Merge weather and crime dataframes, dropping crime records with no matching weather data (i.e. Feb 29, 2016)\n",
    "weather_crime_df = pd.merge(crime_df,weather_df,how='left', on='Date').dropna()\n",
    "weather_crime_df.head()"
   ]
  },
  {
   "cell_type": "code",
   "execution_count": null,
   "id": "e4e2d056",
   "metadata": {},
   "outputs": [],
   "source": []
  },
  {
   "cell_type": "code",
   "execution_count": null,
   "id": "a0861957",
   "metadata": {},
   "outputs": [],
   "source": [
    "# TEMERATURE VS CRIME"
   ]
  },
  {
   "cell_type": "code",
   "execution_count": null,
   "id": "76b2cf21",
   "metadata": {},
   "outputs": [],
   "source": [
    "# Create bins for temperature data\n",
    "temp_bins = [-100, -10, 0, 10, 20, 30, 100]\n",
    "temp_labels = [\"-100 to -10\", \"-10 to 0\", \"0 to 10\", \"10 to 20\", \"20 to 30\", \"30 to 100\"]\n",
    "\n",
    "# Bin the Temp column and add it to the dataframe as the Temp. Bin column\n",
    "weather_crime_df['Temp Bin'] = pd.cut(weather_crime_df['Temp'], temp_bins, labels=temp_labels)\n",
    "\n",
    "# Group by temperature bins, counting the number of crimes committed in each bucket\n",
    "grouped_by_temp_bins = weather_crime_df.groupby(['Temp Bin', 'Type'])['Date'].count()\n",
    "\n",
    "grouped_by_temp_bins_ = weather_crime_df.groupby(['Temp Bin', 'Type'])['Date'].count()\n",
    "\n",
    "# Create a Dataframe with the grouped temperature data and reset index for plotting\n",
    "grouped_by_temp_bins_df = pd.DataFrame(grouped_by_temp_bins.reset_index())\n",
    "\n",
    "# Rename columns\n",
    "grouped_by_temp_bins_df.columns = ['Temp Bin', 'Crime Type', 'Number of Crimes']\n",
    "\n",
    "# Pivot Dataframe as preparation for plotting\n",
    "grouped_by_temp_bins_df2 = grouped_by_temp_bins_df.pivot(index='Temp Bin', columns='Crime Type', values = 'Number of Crimes')\n",
    "\n",
    "# Preview Dataframe\n",
    "grouped_by_temp_bins_df2"
   ]
  },
  {
   "cell_type": "code",
   "execution_count": null,
   "id": "4a3349cf",
   "metadata": {},
   "outputs": [],
   "source": [
    "# Plot Count of Each Crime Type For Each Temperature Bin\n",
    "fig = plt.figure(figsize=(10,5))\n",
    "ax = fig.add_subplot(111)\n",
    "xloc = np.arange(6)  # the x locations for the bars\n",
    "width = 0.1 # the width of the bars\n",
    "ax.bar(xloc - width*2, grouped_by_temp_bins_df2['Assault'], width, label = 'Assault')\n",
    "ax.bar(xloc - width, grouped_by_temp_bins_df2['Break and Enter'], width, label = 'Break and Enter')\n",
    "ax.bar(xloc, grouped_by_temp_bins_df2['Robbery'], width, label = 'Robbery')\n",
    "ax.bar(xloc + width, grouped_by_temp_bins_df2['Auto Theft'], width, label = 'Auto Theft')\n",
    "ax.bar(xloc + width*2, grouped_by_temp_bins_df2['Theft Over'], width, label = 'Theft Over')\n",
    "plt.xticks(xloc, temp_labels)\n",
    "plt.xlabel('Temperature (Celsius)', fontweight = 'bold')\n",
    "plt.ylabel('Total Number of Crimes', fontweight = 'bold')\n",
    "plt.title('Number of Crimes Committed in Each Temperature Range', fontweight = 'bold', fontsize = 14)\n",
    "ax.legend()\n",
    "\n",
    "# Save figure and show it\n",
    "plt.savefig('Number of Crimes Committed in Each Temperature Range.png', bbox_inches = 'tight', dpi = 199)\n",
    "plt.show()"
   ]
  },
  {
   "cell_type": "code",
   "execution_count": null,
   "id": "868bafde",
   "metadata": {},
   "outputs": [],
   "source": []
  },
  {
   "cell_type": "code",
   "execution_count": null,
   "id": "5b261b44",
   "metadata": {},
   "outputs": [],
   "source": []
  },
  {
   "cell_type": "code",
   "execution_count": null,
   "id": "f506fda2",
   "metadata": {},
   "outputs": [],
   "source": []
  },
  {
   "cell_type": "code",
   "execution_count": null,
   "id": "c05fa8c6",
   "metadata": {},
   "outputs": [],
   "source": []
  },
  {
   "cell_type": "code",
   "execution_count": null,
   "id": "2899b5ab",
   "metadata": {},
   "outputs": [],
   "source": []
  },
  {
   "cell_type": "code",
   "execution_count": null,
   "id": "8e11b064",
   "metadata": {},
   "outputs": [],
   "source": []
  }
 ],
 "metadata": {
  "kernelspec": {
   "display_name": "Python 3 (ipykernel)",
   "language": "python",
   "name": "python3"
  },
  "language_info": {
   "codemirror_mode": {
    "name": "ipython",
    "version": 3
   },
   "file_extension": ".py",
   "mimetype": "text/x-python",
   "name": "python",
   "nbconvert_exporter": "python",
   "pygments_lexer": "ipython3",
   "version": "3.9.12"
  }
 },
 "nbformat": 4,
 "nbformat_minor": 5
}
