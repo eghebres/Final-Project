{
 "cells": [
  {
   "cell_type": "code",
   "execution_count": null,
   "id": "079ce890",
   "metadata": {},
   "outputs": [],
   "source": [
    "import pandas as pd\n",
    "import numpy as np\n",
    "import matplotlib.pyplot as plt\n",
    "from collections import Counter\n",
    "import scipy.stats as stats\n",
    "\n",
    "pd.set_option('display.max_columns', None)\n",
    "pd.set_option('display.max_rows', None)\n"
   ]
  },
  {
   "cell_type": "code",
   "execution_count": null,
   "id": "f21d9e51",
   "metadata": {},
   "outputs": [],
   "source": [
    "# KEEP WORKING ON IT! "
   ]
  },
  {
   "cell_type": "code",
   "execution_count": null,
   "id": "922f6cb6",
   "metadata": {},
   "outputs": [],
   "source": [
    "crime_df = pd.read_csv('Crimes_-_2021.csv')"
   ]
  },
  {
   "cell_type": "code",
   "execution_count": null,
   "id": "104ed916",
   "metadata": {
    "scrolled": false
   },
   "outputs": [],
   "source": [
    "weather_df = pd.read_csv('weather_api .csv')\n",
    "weather_df.head()"
   ]
  },
  {
   "cell_type": "code",
   "execution_count": null,
   "id": "cd448976",
   "metadata": {},
   "outputs": [],
   "source": [
    "weather_df.index = pd.to_datetime(weather_df.index)\n",
    "weather_df['precipIntensityMax'] = weather_df['precipIntensityMax'].replace('T',np.nan)\n",
    "weather_df['precipIntensityMax'] = weather_df['precipIntensityMax'].dropna().astype(float)\n",
    "weather_df.tail()"
   ]
  },
  {
   "cell_type": "code",
   "execution_count": null,
   "id": "f669c8f8",
   "metadata": {},
   "outputs": [],
   "source": [
    "# standardizing header names\n",
    "\n",
    "cols_1 = []\n",
    "for column in weather_df.columns:\n",
    "    cols_1.append(column.upper())\n",
    "weather_df.columns = cols_1\n",
    "\n",
    "print(weather_df.columns)"
   ]
  },
  {
   "cell_type": "code",
   "execution_count": null,
   "id": "5d89f948",
   "metadata": {
    "scrolled": true
   },
   "outputs": [],
   "source": [
    "# weather_df.index = pd.to_datetime(weather_df.index)\n",
    "# weather_df['PRECIPINTENSITYMAX'] = weather_df['PRECIPINTENSITYMAX'].replace('T',np.nan)\n",
    "# weather_df['PRECIPINTENSITYMAX'] = weather_df['PRECIPINTENSITYMAX'].dropna().astype(float)\n",
    "# weather_df.tail()\n"
   ]
  },
  {
   "cell_type": "code",
   "execution_count": null,
   "id": "0052854f",
   "metadata": {},
   "outputs": [],
   "source": [
    "cols_1 = []\n",
    "for column in crime_df.columns:\n",
    "    cols_1.append(column.upper())\n",
    "crime_df.columns = cols_1\n",
    "\n",
    "print(crime_df.columns)"
   ]
  },
  {
   "cell_type": "code",
   "execution_count": null,
   "id": "cbc5af76",
   "metadata": {},
   "outputs": [],
   "source": [
    "crime_df['Datetime'] = pd.to_datetime(crime_df['DATE'],format=\"%m/%d/%Y %I:%M:%S %p\")\n",
    "crime_df['Date'] = crime_df['Datetime'].apply(lambda x:x.date())\n",
    "crime_df['Weekday'] = crime_df['Datetime'].apply(lambda x:x.weekday())\n",
    "crime_df['Hour'] = crime_df['Datetime'].apply(lambda x:x.hour)\n",
    "crime_df['Day'] = crime_df['Datetime'].apply(lambda x:x.day)\n",
    "crime_df['Week'] = crime_df['Datetime'].apply(lambda x:x.week)\n",
    "crime_df['Month'] = crime_df['Datetime'].apply(lambda x:x.month)"
   ]
  },
  {
   "cell_type": "code",
   "execution_count": null,
   "id": "fc179624",
   "metadata": {},
   "outputs": [],
   "source": [
    "crime_df.head()\n"
   ]
  },
  {
   "cell_type": "code",
   "execution_count": null,
   "id": "6175dea6",
   "metadata": {},
   "outputs": [],
   "source": [
    "dict(Counter(crime_df['PRIMARY TYPE']))\n"
   ]
  },
  {
   "cell_type": "code",
   "execution_count": null,
   "id": "718cabb9",
   "metadata": {},
   "outputs": [],
   "source": [
    "personal_crimes = ['ASSAULT','BATTERY','CRIMINAL SEXUAL ASSAULT','HOMICIDE']\n",
    "property_crimes = ['ARSON','BURGLARY','MOTOR VEHICLE THEFT','ROBBERY','THEFT']"
   ]
  },
  {
   "cell_type": "code",
   "execution_count": null,
   "id": "291b0bcb",
   "metadata": {},
   "outputs": [],
   "source": [
    "arson_gb = crime_df[crime_df['PRIMARY TYPE'] == 'ARSON'].groupby('DATE')['ID'].agg(len)\n",
    "assault_gb = crime_df[crime_df['PRIMARY TYPE'] == 'ASSAULT'].groupby('DATE')['ID'].agg(len)\n",
    "battery_gb = crime_df[crime_df['PRIMARY TYPE'] == 'BATTERY'].groupby('DATE')['ID'].agg(len)\n",
    "burglary_gb = crime_df[crime_df['PRIMARY TYPE'] == 'BURGLARY'].groupby('DATE')['ID'].agg(len)\n",
    "homicide_gb = crime_df[crime_df['PRIMARY TYPE'] == 'HOMICIDE'].groupby('DATE')['ID'].agg(len)\n",
    "sexual_assault_gb = crime_df[crime_df['PRIMARY TYPE'] == 'CRIMINAL SEXUAL ASSAULT'].groupby('DATE')['ID'].agg(len)\n",
    "robbery_gb = crime_df[crime_df['PRIMARY TYPE'] == 'ROBBERY'].groupby('DATE')['ID'].agg(len)\n",
    "theft_gb = crime_df[crime_df['PRIMARY TYPE'] == 'THEFT'].groupby('DATE')['ID'].agg(len)\n",
    "vehicle_theft_gb = crime_df[crime_df['PRIMARY TYPE'] == 'MOTOR VEHICLE THEFT'].groupby('DATE')['ID'].agg(len)\n",
    "personal_gb = crime_df[crime_df['PRIMARY TYPE'].isin(personal_crimes)].groupby('DATE')['ID'].agg(len)\n",
    "property_gb = crime_df[crime_df['PRIMARY TYPE'].isin(property_crimes)].groupby('DATE')['ID'].agg(len)\n",
    "\n",
    "arson_gb.index = pd.to_datetime(arson_gb.index)\n",
    "assault_gb.index = pd.to_datetime(assault_gb.index)\n",
    "battery_gb.index = pd.to_datetime(battery_gb.index)\n",
    "burglary_gb.index = pd.to_datetime(burglary_gb.index)\n",
    "homicide_gb.index = pd.to_datetime(homicide_gb.index)\n",
    "sexual_assault_gb.index = pd.to_datetime(sexual_assault_gb.index)\n",
    "robbery_gb.index = pd.to_datetime(robbery_gb.index)\n",
    "theft_gb.index = pd.to_datetime(theft_gb.index)\n",
    "vehicle_theft_gb.index = pd.to_datetime(vehicle_theft_gb.index)\n",
    "personal_gb.index = pd.to_datetime(personal_gb.index)\n",
    "property_gb.index = pd.to_datetime(property_gb.index)\n"
   ]
  },
  {
   "cell_type": "code",
   "execution_count": null,
   "id": "31f95f57",
   "metadata": {},
   "outputs": [],
   "source": [
    "ts = pd.DataFrame({'Arson':arson_gb.loc[:'2021-12-31'],\n",
    "                   'Assault':assault_gb.loc[:'2021-12-31'],\n",
    "                   'Battery':battery_gb.loc[:'2021-12-31'],\n",
    "                   'Burglary':burglary_gb.loc[:'2021-12-31'],\n",
    "                   'Homicide':homicide_gb.loc[:'2021-12-31'],\n",
    "                   'Sexual_assault':sexual_assault_gb.loc[:'2021-12-31'],\n",
    "                   'Robbery':robbery_gb.loc[:'2021-12-31'],\n",
    "                   'Vehicle_theft':vehicle_theft_gb.loc[:'2021-12-31'],\n",
    "                   'Theft':theft_gb.loc[:'2021-12-31'],\n",
    "                   'Personal':personal_gb.loc[:'2021-12-31'],\n",
    "                   'Property':property_gb.loc[:'2021-12-31'],\n",
    "                   'Temperature':weather_df['APPARENTTEMPERATUREMAX'].loc[:'2021-12-31'],\n",
    "                   'Binned temperature':weather_df['APPARENTTEMPERATUREMAX'].loc[:'2021-12-31']//10.*10,\n",
    "                   'Humidity':weather_df['HUMIDITY'].loc[:'2021-12-31'],\n",
    "                   'Precipitation':weather_df['PRECIPINTENSITYMAX'].loc[:'2021-12-31']\n",
    "                   })\n",
    "# ts\n"
   ]
  },
  {
   "cell_type": "code",
   "execution_count": null,
   "id": "f558db67",
   "metadata": {
    "scrolled": false
   },
   "outputs": [],
   "source": [
    "ts.index"
   ]
  },
  {
   "cell_type": "code",
   "execution_count": null,
   "id": "c5669a7a",
   "metadata": {},
   "outputs": [],
   "source": [
    "ts.dtypes"
   ]
  },
  {
   "cell_type": "code",
   "execution_count": null,
   "id": "10bb84f7",
   "metadata": {},
   "outputs": [],
   "source": [
    "# ts = ts.fillna(0)"
   ]
  },
  {
   "cell_type": "code",
   "execution_count": null,
   "id": "aea2e54d",
   "metadata": {},
   "outputs": [],
   "source": [
    "len(ts)"
   ]
  },
  {
   "cell_type": "code",
   "execution_count": null,
   "id": "fc70b1ec",
   "metadata": {},
   "outputs": [],
   "source": [
    "#ts['Time'] = range(max(ts.index)-min(ts.index))\n",
    "# need to add +1 because otherwise: error\n",
    "# length of values does not match values of index"
   ]
  },
  {
   "cell_type": "code",
   "execution_count": null,
   "id": "c661d7d0",
   "metadata": {},
   "outputs": [],
   "source": [
    "# ts['Time'] = range(max(ts.index)-min(ts.index).days+1)\n",
    "# #\n",
    "# #ts.reset_index(inplace=True)\n",
    "# ts.set_index('Date',drop=False,inplace=True)"
   ]
  },
  {
   "cell_type": "code",
   "execution_count": null,
   "id": "1b91e63d",
   "metadata": {},
   "outputs": [],
   "source": [
    "# ts.drop(ts.tail(1).index,inplace=True) # drop last n rows"
   ]
  },
  {
   "cell_type": "code",
   "execution_count": null,
   "id": "5c305c66",
   "metadata": {},
   "outputs": [],
   "source": []
  },
  {
   "cell_type": "code",
   "execution_count": null,
   "id": "617f130c",
   "metadata": {},
   "outputs": [],
   "source": [
    "# ts"
   ]
  },
  {
   "cell_type": "code",
   "execution_count": null,
   "id": "19a75ce9",
   "metadata": {},
   "outputs": [],
   "source": [
    "# WHY DOESNT THE FOLLOWING CELL WORK PROPERLY ANYMORE? I CHANGED STH AND NOW IT IS GIVING ME WEIRD RESULTS FOR A FEW OTHER CELLS\n",
    "# RE-DO AND WORK ON THIS CELL AGAIN! WASNT ABLE TO FIX IT NOW"
   ]
  },
  {
   "cell_type": "code",
   "execution_count": null,
   "id": "f32ef662",
   "metadata": {
    "scrolled": true
   },
   "outputs": [],
   "source": [
    "\n",
    "# ts['Time'] = range((max(ts.index)-min(ts.index)).days+1)\n",
    "#ts['Time'] = range((max(ts.index)-min(ts.index)).days+1)\n",
    "#ts.reset_index(inplace=True)\n",
    "#ts.set_index('Date')\n",
    "ts['Weekday'] = ts['Date'].apply(lambda x:x.weekday())\n",
    "ts['Hour'] = ts['Date'].apply(lambda x:x.hour)\n",
    "ts['Week'] = ts['Date'].apply(lambda x:x.week)\n",
    "ts['Month'] = ts['Date'].apply(lambda x:x.month)\n",
    "ts['Year'] = ts['Date'].apply(lambda x:x.year)\n",
    "ts['Weekend'] = ts['Weekday'].isin([5,6]).astype(int)"
   ]
  },
  {
   "cell_type": "code",
   "execution_count": null,
   "id": "dd350b4a",
   "metadata": {},
   "outputs": [],
   "source": [
    "ts.shape[0]"
   ]
  },
  {
   "cell_type": "code",
   "execution_count": null,
   "id": "633c02b5",
   "metadata": {},
   "outputs": [],
   "source": [
    "## CORRELATION BETWEEN CRIME AND TEMPERATURE"
   ]
  },
  {
   "cell_type": "code",
   "execution_count": null,
   "id": "1f89f081",
   "metadata": {
    "scrolled": false
   },
   "outputs": [],
   "source": [
    "import matplotlib.pyplot as plt\n",
    "\n",
    "plt.figure(figsize=(8,6))\n",
    "ts.corr().columns\n",
    "a = np.array(ts[['Arson','Burglary','Robbery','Theft','Assault','Battery','Homicide','Sexual_assault','Temperature','Humidity','Precipitation']].resample('M').sum().corr())\n",
    "np.fill_diagonal(a,0)\n",
    "plt.pcolor(a,cmap='YlOrBr',edgecolors='k')\n",
    "\n",
    "plt.xlim((0,11))\n",
    "plt.ylim((0,11))\n",
    "\n",
    "plt.xticks(np.arange(.5,11.5),['Arson','Burglary','Robbery','Theft','Assault','Battery','Homicide','Sexual assault','Temperature','Humidity','Precipitation'],rotation=90,fontsize=15)\n",
    "plt.yticks(np.arange(.5,11.5),['Arson','Burglary','Robbery','Theft','Assault','Battery','Homicide','Sexual assault','Temperature','Humidity','Precipitation'],fontsize=15)\n",
    "\n",
    "plt.title('Correlation between crime and temporal factors',fontsize=20)\n",
    "plt.colorbar()\n",
    "plt.grid(b=True,which='major',alpha=.5)"
   ]
  },
  {
   "cell_type": "code",
   "execution_count": null,
   "id": "87b6d2c9",
   "metadata": {},
   "outputs": [],
   "source": [
    "plt.figure(figsize=(12,6))\n",
    "\n",
    "ts3 = pd.DataFrame({'Personal':personal_gb/float(personal_gb.max()),\n",
    "                    'Property':property_gb/float(property_gb.max())\n",
    "                    })\n",
    "monthly = ts3.resample('M')\n",
    "#ax = monthly.plot(lw=4,alpha=.75,color = {'Personal':'#BB0000', 'Property':'#0000BB'})\n",
    "ax = monthly.plot(lw=4,alpha=.75,colormap='Paired')\n",
    "plt.xlabel('Time',fontsize=18)\n",
    "plt.ylabel('Incidents (normalized)',fontsize=18)\n",
    "plt.ylim((0,1))\n",
    "plt.grid(False,which='minor')\n",
    "plt.legend([\"Personal\", \"Property\"], loc='upper right', fontsize=18);\n",
    "#ax.legend(loc='upper center',ncol=4,fontsize=18)"
   ]
  },
  {
   "cell_type": "code",
   "execution_count": null,
   "id": "1aee211a",
   "metadata": {},
   "outputs": [],
   "source": [
    "## PERSONAL AND PROPERTY CRIME WITH TEMPERATURE"
   ]
  },
  {
   "cell_type": "code",
   "execution_count": null,
   "id": "82cb9f79",
   "metadata": {},
   "outputs": [],
   "source": [
    "plt.figure(figsize=(8,6))\n",
    "ax = ts.boxplot(['Personal','Property'],by='Binned temperature', figsize=(10,8))\n",
    "ax[0].set_ylabel('Number of crimes',fontsize=18)\n",
    "ax[0].set_xlabel('Temperature (F)',fontsize=18)\n",
    "ax[0].set_title('Personal crimes',fontsize=15)\n",
    "\n",
    "ax[1].set_xlabel('Temperature (F)',fontsize=18)\n",
    "ax[1].set_title('Property crimes',fontsize=15)\n",
    "\n",
    "plt.suptitle('Crime vs Temperature',fontsize=20)"
   ]
  },
  {
   "cell_type": "code",
   "execution_count": null,
   "id": "3b1800bd",
   "metadata": {},
   "outputs": [],
   "source": []
  },
  {
   "cell_type": "code",
   "execution_count": null,
   "id": "68c2c2cb",
   "metadata": {},
   "outputs": [],
   "source": [
    "## CRIME WITH TEMPERATURE AND TEMPORAL FACTORS"
   ]
  },
  {
   "cell_type": "code",
   "execution_count": null,
   "id": "c2a10301",
   "metadata": {},
   "outputs": [],
   "source": [
    "crime_df_gb_personal = crime_df[crime_df['PRIMARY TYPE'].isin(personal_crimes)]\n",
    "crime_df_gb_property = crime_df[crime_df['PRIMARY TYPE'].isin(property_crimes)]"
   ]
  },
  {
   "cell_type": "code",
   "execution_count": null,
   "id": "cbdf5c70",
   "metadata": {},
   "outputs": [],
   "source": [
    "def autolabel(rects):\n",
    "    # attach some text labels\n",
    "    for rect in rects:\n",
    "        height = rect.get_height()\n",
    "        ax.text(rect.get_x() + rect.get_width()/2., 1.05*height,\n",
    "                '%d' % int(height),\n",
    "                ha='center', va='bottom')"
   ]
  },
  {
   "cell_type": "code",
   "execution_count": null,
   "id": "a27b74ea",
   "metadata": {},
   "outputs": [],
   "source": [
    "bar_df = pd.DataFrame()\n",
    "bar_df['Personal'] = crime_df_gb_personal.groupby('Month')['ID'].agg(len)/len(crime_df_gb_personal)*100\n",
    "bar_df['Property'] = crime_df_gb_property.groupby('Month')['ID'].agg(len)/len(crime_df_gb_property)*100\n",
    "ax = bar_df.plot(kind='bar',align='center', width=0.8, figsize=(10,8))\n",
    "plt.title('Crimes peak in Summer',fontsize=20)\n",
    "plt.xlabel('Month of Year', fontsize=18)\n",
    "plt.xticks(plt.xticks()[0],['Jan','Feb','Mar','Apr','May','Jun','Jul','Aug','Sep','Oct','Nov','Dec'],fontsize=10,rotation=0)\n",
    "plt.ylabel('% of crimes', fontsize=18)\n",
    "plt.yticks(fontsize=15)\n",
    "plt.ylim((0,14))\n",
    "plt.legend(fontsize=12,ncol=2,loc='upper center')\n",
    "autolabel(ax.patches)"
   ]
  },
  {
   "cell_type": "code",
   "execution_count": null,
   "id": "54cd80ac",
   "metadata": {},
   "outputs": [],
   "source": []
  },
  {
   "cell_type": "code",
   "execution_count": null,
   "id": "78220978",
   "metadata": {},
   "outputs": [],
   "source": [
    "## RELATIONSHIP CRIME WITH TEMPERATURE AND TEMPORAL FACTORS"
   ]
  },
  {
   "cell_type": "code",
   "execution_count": null,
   "id": "7ed1c5aa",
   "metadata": {},
   "outputs": [],
   "source": [
    "ct = crime_df[crime_df['PRIMARY TYPE'] == 'ASSAULT'].groupby(['Month','Hour'])['ID'].agg(len).reset_index()\n",
    "plt.imshow(np.array(pd.pivot_table(ct,values='ID',index='Month',columns='Hour')),cmap='RdBu_r',label='Count',aspect='auto')\n",
    "plt.xlabel('Hour of day',fontsize=15)\n",
    "plt.ylabel('Month of year',fontsize=15)\n",
    "plt.title('Assault by time of day and year',fontsize=18)\n",
    "plt.colorbar()"
   ]
  },
  {
   "cell_type": "code",
   "execution_count": null,
   "id": "7b70ee3e",
   "metadata": {},
   "outputs": [],
   "source": [
    "ct = crime_df[crime_df['PRIMARY TYPE'] == 'ASSAULT'].groupby(['Weekday','Hour'])['ID'].agg(len).reset_index()\n",
    "plt.imshow(np.array(pd.pivot_table(ct,values='ID',index='Weekday',columns='Hour')),cmap='RdBu_r',label='Count',aspect='auto')\n",
    "plt.xlabel('Hour of day',fontsize=15)\n",
    "plt.ylabel('Day of week',fontsize=15)\n",
    "plt.title('Assault by time of day and week',fontsize=18)\n",
    "plt.yticks(np.arange(0,7),['Mon','Tue','Wed','Thu','Fri','Sat','Sun'])\n",
    "plt.colorbar()"
   ]
  },
  {
   "cell_type": "code",
   "execution_count": null,
   "id": "01fb6584",
   "metadata": {},
   "outputs": [],
   "source": [
    "ct = crime_df[crime_df['PRIMARY TYPE'] == 'BATTERY'].groupby(['Month','Hour'])['ID'].agg(len).reset_index()\n",
    "plt.imshow(np.array(pd.pivot_table(ct,values='ID',index='Month',columns='Hour')),cmap='RdBu_r',label='Count',aspect='auto')\n",
    "plt.xlabel('Hour of day',fontsize=15)\n",
    "plt.ylabel('Month of year',fontsize=15)\n",
    "plt.title('Battery by time of day and year',fontsize=18)\n",
    "plt.colorbar()"
   ]
  },
  {
   "cell_type": "code",
   "execution_count": null,
   "id": "ec623a97",
   "metadata": {},
   "outputs": [],
   "source": [
    "ct = crime_df[crime_df['PRIMARY TYPE'] == 'HOMICIDE'].groupby(['Month','Hour'])['ID'].agg(len).reset_index()\n",
    "plt.imshow(np.array(pd.pivot_table(ct,values='ID',index='Month',columns='Hour')),cmap='RdBu_r',label='Count',aspect='auto')\n",
    "plt.xlabel('Hour of day',fontsize=15)\n",
    "plt.ylabel('Month of year',fontsize=15)\n",
    "plt.title('Homicides by time of day and year',fontsize=18)\n",
    "plt.colorbar()"
   ]
  },
  {
   "cell_type": "code",
   "execution_count": null,
   "id": "45d4a841",
   "metadata": {},
   "outputs": [],
   "source": []
  },
  {
   "cell_type": "code",
   "execution_count": null,
   "id": "9ab3b15d",
   "metadata": {},
   "outputs": [],
   "source": [
    "## TEMPERATURE CURVE FITTING"
   ]
  },
  {
   "cell_type": "code",
   "execution_count": null,
   "id": "1427b3f2",
   "metadata": {},
   "outputs": [],
   "source": [
    "def sinfunc(x,a,b,c):\n",
    "    return a*np.sin(2*np.pi/365.*x+b)+c\n",
    "\n",
    "y2021 = np.array(ts['Temperature']['2021-1-1':'2021-12-31'])\n",
    "x = np.arange(len(y2021))\n",
    "fitpars,covmat =  curve_fit(f=sinfunc,xdata=x,ydata=y2021)\n",
    "\n",
    "plt.figure(figsize=(8,6))\n",
    "plt.scatter(x,y2021)\n",
    "y = sinfunc(x,*fitpars)\n",
    "plt.plot(x,y,'r-',lw=8,alpha=.5)\n",
    "plt.ylabel('Temperature',fontsize=18)\n",
    "plt.xlabel('Day',fontsize=18)\n",
    "plt.xlim((0,365))"
   ]
  },
  {
   "cell_type": "code",
   "execution_count": null,
   "id": "668519b0",
   "metadata": {},
   "outputs": [],
   "source": [
    "for y in range(2021):\n",
    "    y_i = np.array(ts['Temperature']['{0}-1-1'.format(y):'{0}-12-31'.format(y)])\n",
    "    y_i = np.nan_to_num(y_i)\n",
    "    x = np.arange(len(y_i))\n",
    "    try:\n",
    "        fitpars_i,covmat =  curve_fit(f=sinfunc,xdata=x,ydata=y_i)\n",
    "    except RuntimeError:\n",
    "        print (\"Couldn't find estimates for {0}\".format(y))\n",
    "        pass\n",
    "    fitpars = np.vstack([fitpars,fitpars_i])\n",
    "    \n",
    "avg_parameters = fitpars.mean(axis=0)"
   ]
  },
  {
   "cell_type": "code",
   "execution_count": null,
   "id": "448b3293",
   "metadata": {},
   "outputs": [],
   "source": [
    "import statsmodels.formula.api as smf"
   ]
  },
  {
   "cell_type": "code",
   "execution_count": null,
   "id": "bfeb3ab2",
   "metadata": {},
   "outputs": [],
   "source": [
    "## STATISTICAL MODELLING\n",
    "## PERSONAL AND PROPERTY CRIMES"
   ]
  },
  {
   "cell_type": "code",
   "execution_count": null,
   "id": "6d6fff87",
   "metadata": {},
   "outputs": [],
   "source": [
    "lm_personal = smf.ols('Personal ~ Temperature + Time + C(Week) + C(Weekday)',data=ts.dropna()).fit()\n",
    "\n",
    "lm_personal_x = pd.DataFrame({'Date':pd.date_range('2021-01-01','2021-12-31')})\n",
    "lm_personal_x['Temperature'] = sinfunc(np.arange(len(lm_personal_x)),*avg_params)\n",
    "lm_personal_x['Month'] = lm_personal_x['Date'].apply(lambda x:x.month)\n",
    "lm_personal_x['Week'] = lm_personal_x['Date'].apply(lambda x:x.week)\n",
    "lm_personal_x['Weekday'] = lm_personal_x['Date'].apply(lambda x:x.weekday())\n",
    "lm_personal_x['Time'] = np.arange(len(lm_personal_x))\n",
    "lm_personal_x = lm_personal_x.set_index('Date')\n",
    "\n",
    "std,lower,upper = wls_prediction_std(lm_personal)\n",
    "\n",
    "start_date = '2021-01-01'\n",
    "personal_pred = pd.DataFrame(index = pd.date_range(start_date,'2021-12-31'))\n",
    "personal_pred['Predictions'] = lm_personal.predict(lm_personal_x[start_date:])\n",
    "personal_pred['Observations'] = ts['Personal'].loc[start_date:]"
   ]
  },
  {
   "cell_type": "code",
   "execution_count": null,
   "id": "06a15018",
   "metadata": {},
   "outputs": [],
   "source": [
    "personal_pred['Predictions'].resample('W').plot(c='b',lw=4,alpha=.75,label='Predictions',figsize=(8,6))\n",
    "#plt.plot(assault_pred.index,assault_pred['Lower_CI'])\n",
    "#plt.figure(figsize=(8,6))\n",
    "plt.scatter(personal_pred.index,personal_pred['Observations'],c='b',alpha=.25,label='Observations')\n",
    "plt.ylabel('Number of personal crimes',fontsize=15)\n",
    "plt.xlabel('Time',fontsize=15)\n",
    "plt.axvspan(xmin='2014-3-1',xmax=personal_pred.index.max(),color='k',alpha=.1)\n",
    "#plt.legend()\n",
    "plt.title('Comparison of model predictions and observed data',fontsize=18)"
   ]
  },
  {
   "cell_type": "code",
   "execution_count": null,
   "id": "04e34261",
   "metadata": {},
   "outputs": [],
   "source": [
    "lm_property = smf.ols('Property ~ Temperature + Time + C(Week) + C(Weekday)',data=ts.dropna()).fit()\n",
    "\n",
    "lm_property_x = pd.DataFrame({'Date':pd.date_range('2021-01-01','2021-12-31')})\n",
    "lm_property_x['Temperature'] = sinfunc(np.arange(len(lm_property_x)),*avg_params)\n",
    "lm_property_x['Month'] = lm_property_x['Date'].apply(lambda x:x.month)\n",
    "lm_property_x['Week'] = lm_property_x['Date'].apply(lambda x:x.week)\n",
    "lm_property_x['Weekday'] = lm_property_x['Date'].apply(lambda x:x.weekday())\n",
    "lm_property_x['Time'] = np.arange(len(lm_property_x))\n",
    "lm_property_x = lm_property_x.set_index('Date')\n",
    "\n",
    "std,lower,upper = wls_prediction_std(lm_property)\n",
    "\n",
    "start_date = '2001-01-01'\n",
    "property_pred = pd.DataFrame(index = pd.date_range(start_date,'2021-12-31'))\n",
    "property_pred['Predictions'] = lm_property.predict(lm_property_x[start_date:])\n",
    "property_pred['Observations'] = ts['Property'].loc[start_date:]"
   ]
  },
  {
   "cell_type": "code",
   "execution_count": null,
   "id": "2dc200d4",
   "metadata": {},
   "outputs": [],
   "source": [
    "#property_pred[['Lower CI','Upper CI']].resample('W').plot(c='g',lw=1,alpha=.75)\n",
    "property_pred['Predictions'].resample('W').plot(c='g',lw=4,alpha=.75,label='Predictions',figsize=(8,6))\n",
    "#plt.plot(assault_pred.index,assault_pred['Lower_CI'])\n",
    "plt.scatter(property_pred.index,property_pred['Observations'],c='g',alpha=.25,label='Observations')\n",
    "plt.ylabel('Number of property crimes',fontsize=15)\n",
    "plt.xlabel('Time',fontsize=15)\n",
    "plt.axvspan(xmin='2021-3-1',xmax=property_pred.index.max(),color='k',alpha=.1)\n",
    "#plt.legend()\n",
    "plt.title('Comparison of model predictions and observed data',fontsize=18)"
   ]
  },
  {
   "cell_type": "code",
   "execution_count": null,
   "id": "708f3c1c",
   "metadata": {},
   "outputs": [],
   "source": []
  },
  {
   "cell_type": "code",
   "execution_count": null,
   "id": "afc53319",
   "metadata": {},
   "outputs": [],
   "source": []
  },
  {
   "cell_type": "code",
   "execution_count": null,
   "id": "cf2389a6",
   "metadata": {},
   "outputs": [],
   "source": []
  },
  {
   "cell_type": "code",
   "execution_count": null,
   "id": "20631a16",
   "metadata": {},
   "outputs": [],
   "source": []
  },
  {
   "cell_type": "code",
   "execution_count": null,
   "id": "58838535",
   "metadata": {},
   "outputs": [],
   "source": []
  },
  {
   "cell_type": "code",
   "execution_count": null,
   "id": "e9634062",
   "metadata": {},
   "outputs": [],
   "source": []
  },
  {
   "cell_type": "code",
   "execution_count": null,
   "id": "2e1f97cc",
   "metadata": {},
   "outputs": [],
   "source": []
  },
  {
   "cell_type": "code",
   "execution_count": null,
   "id": "058e03d2",
   "metadata": {},
   "outputs": [],
   "source": []
  },
  {
   "cell_type": "code",
   "execution_count": null,
   "id": "734be97e",
   "metadata": {},
   "outputs": [],
   "source": []
  },
  {
   "cell_type": "code",
   "execution_count": null,
   "id": "b528d36d",
   "metadata": {},
   "outputs": [],
   "source": []
  }
 ],
 "metadata": {
  "kernelspec": {
   "display_name": "Python 3 (ipykernel)",
   "language": "python",
   "name": "python3"
  },
  "language_info": {
   "codemirror_mode": {
    "name": "ipython",
    "version": 3
   },
   "file_extension": ".py",
   "mimetype": "text/x-python",
   "name": "python",
   "nbconvert_exporter": "python",
   "pygments_lexer": "ipython3",
   "version": "3.9.12"
  }
 },
 "nbformat": 4,
 "nbformat_minor": 5
}
