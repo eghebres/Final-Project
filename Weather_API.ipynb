{
 "cells": [
  {
   "cell_type": "code",
   "execution_count": null,
   "metadata": {},
   "outputs": [],
   "source": [
    "import requests as r\n",
    "import pandas as pd\n",
    "from getpass import getpass"
   ]
  },
  {
   "cell_type": "code",
   "execution_count": null,
   "metadata": {},
   "outputs": [],
   "source": [
    "key = getpass() # API Key"
   ]
  },
  {
   "cell_type": "code",
   "execution_count": null,
   "metadata": {},
   "outputs": [],
   "source": [
    "# this api gets the data by adding 4 parameters to the url, they are date, lat, long and key\n",
    "\n",
    "date = '1609498800' #this date is unix date represting 1st jan 2021 obtained through #https://www.unixtimestamp.com\n",
    "lat = '41.8781' # lat and long for new york city #https://www.latlong.net/place/new-york-city-ny-usa-1848.html\n",
    "long = '-87.6298'\n",
    "url = f'https://api.darksky.net/forecast/{key}/{lat},{long},{date}' #https://realpython.com/python-f-strings/\n",
    "                                                                    #https://darksky.net/dev/docs\n",
    "request = r.get(url)  # request and get the weather data for the date from URL\n",
    "result = request.json() # turn the requested data into json datatype\n",
    "result.keys()"
   ]
  },
  {
   "cell_type": "code",
   "execution_count": null,
   "metadata": {},
   "outputs": [],
   "source": [
    "result['daily'].keys()"
   ]
  },
  {
   "cell_type": "code",
   "execution_count": null,
   "metadata": {},
   "outputs": [],
   "source": [
    "result['daily']['data'] #I am only looking at daily data from the requested json"
   ]
  },
  {
   "cell_type": "code",
   "execution_count": null,
   "metadata": {},
   "outputs": [],
   "source": [
    "daily = pd.json_normalize(result['daily']['data']) # normalise and turn into DF"
   ]
  },
  {
   "cell_type": "code",
   "execution_count": null,
   "metadata": {
    "scrolled": true
   },
   "outputs": [],
   "source": [
    "daily #for 1st Jan 2021"
   ]
  },
  {
   "cell_type": "code",
   "execution_count": null,
   "metadata": {
    "scrolled": true
   },
   "outputs": [],
   "source": [
    "# Converting Unix time into human readable date time\n",
    "# the api actually gives us some rows before 1st Jan 2021\n",
    "\n",
    "daily['time'] = pd.to_datetime(daily['time'],unit='s') # unit='s' helps with converting it to date time from unix\n",
    "daily"
   ]
  },
  {
   "cell_type": "code",
   "execution_count": null,
   "metadata": {
    "scrolled": false
   },
   "outputs": [],
   "source": [
    "# Need all days in year 2021\n",
    "#start date (1st Jan 2021), stop date (up to 2nd Jan 2022, steps = 86400) #86400 seconds is 1 day\n",
    "for date in range(1627614900, 1659131700, 86400): \n",
    "    print(date)"
   ]
  },
  {
   "cell_type": "code",
   "execution_count": null,
   "metadata": {},
   "outputs": [],
   "source": [
    "break #dont run code below again takes ages"
   ]
  },
  {
   "cell_type": "code",
   "execution_count": null,
   "metadata": {},
   "outputs": [],
   "source": [
    "# creating a loop to find the daily weather data for all the days in 2021\n",
    "\n",
    "#date = '1627614900' to '1641085200'\n",
    "dfs = []\n",
    "# getting the range of unix dates from 29th july 2021 up to 30th july 2022, there are 86400 seconds in a day\n",
    "\n",
    "for date in range(1627614900, 1659131700, 86400):  \n",
    "    url = f'https://api.darksky.net/forecast/{key}/{lat},{long},{date}'\n",
    "\n",
    "    request = r.get(url)\n",
    "    result = request.json()\n",
    "    daily = pd.json_normalize(result['daily']['data'])\n",
    "    daily['time'] = pd.to_datetime(daily['time'],unit='s')\n",
    "    dfs.append(daily) #appending to dfs\n"
   ]
  },
  {
   "cell_type": "code",
   "execution_count": null,
   "metadata": {},
   "outputs": [],
   "source": [
    "data = pd.concat(dfs, axis=0) #weather data for one year"
   ]
  },
  {
   "cell_type": "code",
   "execution_count": null,
   "metadata": {},
   "outputs": [],
   "source": [
    "data.shape"
   ]
  },
  {
   "cell_type": "code",
   "execution_count": null,
   "metadata": {},
   "outputs": [],
   "source": [
    "data.head()"
   ]
  },
  {
   "cell_type": "code",
   "execution_count": null,
   "metadata": {
    "scrolled": false
   },
   "outputs": [],
   "source": [
    "data.tail()"
   ]
  },
  {
   "cell_type": "code",
   "execution_count": null,
   "metadata": {},
   "outputs": [],
   "source": []
  },
  {
   "cell_type": "code",
   "execution_count": null,
   "metadata": {},
   "outputs": [],
   "source": [
    "# extract date information from datetime in order to create new column date\n",
    "# necessary for merging the crime and weather tables\n",
    "\n",
    "from datetime import datetime \n",
    "\n",
    "data['year'] = data['time'].dt.year\n",
    "data['month'] = data['time'].dt.month\n",
    "data['day'] = data['time'].dt.day\n",
    "data"
   ]
  },
  {
   "cell_type": "code",
   "execution_count": null,
   "metadata": {},
   "outputs": [],
   "source": [
    "data['date'] = data['year'].astype(str) + '-' + data['month'].astype(str) + '-' + data['day'].astype(str)\n",
    "data"
   ]
  },
  {
   "cell_type": "code",
   "execution_count": null,
   "metadata": {},
   "outputs": [],
   "source": []
  },
  {
   "cell_type": "code",
   "execution_count": null,
   "metadata": {},
   "outputs": [],
   "source": [
    "# put date column into datetime format\n",
    "\n",
    "data['date'] = pd.to_datetime(data['date']) # unit='s' helps with converting it to date time from unix\n",
    "data"
   ]
  },
  {
   "cell_type": "code",
   "execution_count": null,
   "metadata": {},
   "outputs": [],
   "source": []
  },
  {
   "cell_type": "code",
   "execution_count": null,
   "metadata": {},
   "outputs": [],
   "source": [
    "data.to_csv('weather_api .csv')"
   ]
  },
  {
   "cell_type": "code",
   "execution_count": null,
   "metadata": {},
   "outputs": [],
   "source": []
  }
 ],
 "metadata": {
  "kernelspec": {
   "display_name": "Python 3 (ipykernel)",
   "language": "python",
   "name": "python3"
  },
  "language_info": {
   "codemirror_mode": {
    "name": "ipython",
    "version": 3
   },
   "file_extension": ".py",
   "mimetype": "text/x-python",
   "name": "python",
   "nbconvert_exporter": "python",
   "pygments_lexer": "ipython3",
   "version": "3.9.12"
  }
 },
 "nbformat": 4,
 "nbformat_minor": 2
}
