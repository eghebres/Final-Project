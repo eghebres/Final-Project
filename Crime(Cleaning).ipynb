{
 "cells": [
  {
   "cell_type": "code",
   "execution_count": null,
   "id": "62067ff5",
   "metadata": {},
   "outputs": [],
   "source": [
    "import pandas as pd\n",
    "import numpy as np\n",
    "import matplotlib.pyplot as plt\n",
    "import seaborn as sns "
   ]
  },
  {
   "cell_type": "code",
   "execution_count": null,
   "id": "67bf9a43",
   "metadata": {},
   "outputs": [],
   "source": [
    "data = pd.read_csv('Crimes_-_One_year_prior_to_present.csv')\n",
    "data"
   ]
  },
  {
   "cell_type": "code",
   "execution_count": null,
   "id": "3e5be1e4",
   "metadata": {},
   "outputs": [],
   "source": []
  },
  {
   "cell_type": "code",
   "execution_count": null,
   "id": "f1c40887",
   "metadata": {},
   "outputs": [],
   "source": [
    "data.dtypes"
   ]
  },
  {
   "cell_type": "code",
   "execution_count": null,
   "id": "21feeb90",
   "metadata": {},
   "outputs": [],
   "source": [
    "data.info()"
   ]
  },
  {
   "cell_type": "code",
   "execution_count": null,
   "id": "ad4f7b1b",
   "metadata": {
    "scrolled": true
   },
   "outputs": [],
   "source": [
    "data.isna().sum()"
   ]
  },
  {
   "cell_type": "code",
   "execution_count": null,
   "id": "819cf3ec",
   "metadata": {},
   "outputs": [],
   "source": [
    "# standardizing header names\n",
    "\n",
    "cols_1 = []\n",
    "for column in data.columns:\n",
    "    cols_1.append(column.lower())\n",
    "data.columns = cols_1\n",
    "\n",
    "print(data.columns)"
   ]
  },
  {
   "cell_type": "code",
   "execution_count": null,
   "id": "10e2007d",
   "metadata": {},
   "outputs": [],
   "source": [
    "data.columns=[e.lower().replace(' ','_')for e in data.columns] \n",
    "data.columns"
   ]
  },
  {
   "cell_type": "code",
   "execution_count": null,
   "id": "3ad8b7b7",
   "metadata": {
    "scrolled": true
   },
   "outputs": [],
   "source": []
  },
  {
   "cell_type": "code",
   "execution_count": null,
   "id": "f90afb87",
   "metadata": {},
   "outputs": [],
   "source": [
    "data = data\n",
    "data"
   ]
  },
  {
   "cell_type": "code",
   "execution_count": null,
   "id": "495e48dd",
   "metadata": {},
   "outputs": [],
   "source": [
    "data = data.drop(['x_coordinate', 'y_coordinate', 'latitude', 'longitude', 'location'], axis=1)"
   ]
  },
  {
   "cell_type": "code",
   "execution_count": null,
   "id": "bce7b1f3",
   "metadata": {
    "scrolled": true
   },
   "outputs": [],
   "source": [
    "df = data.rename(columns = {'case#':'case'})\n",
    "df"
   ]
  },
  {
   "cell_type": "code",
   "execution_count": null,
   "id": "ef3623b0",
   "metadata": {},
   "outputs": [],
   "source": []
  },
  {
   "cell_type": "code",
   "execution_count": null,
   "id": "19b881a1",
   "metadata": {},
   "outputs": [],
   "source": [
    "df.isna().sum()"
   ]
  },
  {
   "cell_type": "code",
   "execution_count": null,
   "id": "cbad1d09",
   "metadata": {},
   "outputs": [],
   "source": [
    "df = df.dropna()"
   ]
  },
  {
   "cell_type": "code",
   "execution_count": null,
   "id": "598f0a57",
   "metadata": {},
   "outputs": [],
   "source": [
    "df.isna().sum()"
   ]
  },
  {
   "cell_type": "code",
   "execution_count": null,
   "id": "e858c4b2",
   "metadata": {},
   "outputs": [],
   "source": [
    "df['date__of_occurrence']= pd.to_datetime(df['date__of_occurrence'])\n"
   ]
  },
  {
   "cell_type": "code",
   "execution_count": null,
   "id": "779aa3a4",
   "metadata": {},
   "outputs": [],
   "source": [
    "df.info()"
   ]
  },
  {
   "cell_type": "code",
   "execution_count": null,
   "id": "625d8003",
   "metadata": {},
   "outputs": [],
   "source": [
    "# sort table by date of occurence\n",
    "# timeframe between 30th of July 2021 and 29th of July 2022\n",
    "\n",
    "df.sort_values(by='date__of_occurrence', ascending=True)"
   ]
  },
  {
   "cell_type": "code",
   "execution_count": null,
   "id": "b2e44078",
   "metadata": {},
   "outputs": [],
   "source": []
  },
  {
   "cell_type": "code",
   "execution_count": null,
   "id": "d2699280",
   "metadata": {},
   "outputs": [],
   "source": [
    "df['date__of_occurrence'] = pd.to_datetime(df['date__of_occurrence']) # unit='s' helps with converting it to date time from unix\n",
    "df"
   ]
  },
  {
   "cell_type": "code",
   "execution_count": null,
   "id": "37332f5b",
   "metadata": {
    "scrolled": true
   },
   "outputs": [],
   "source": [
    "df"
   ]
  },
  {
   "cell_type": "code",
   "execution_count": null,
   "id": "571003fa",
   "metadata": {},
   "outputs": [],
   "source": [
    "# df = pd.DataFrame(data)"
   ]
  },
  {
   "cell_type": "code",
   "execution_count": null,
   "id": "6bc5a884",
   "metadata": {
    "scrolled": true
   },
   "outputs": [],
   "source": [
    "df.sort_values(by='date__of_occurrence', ascending=False)\n"
   ]
  },
  {
   "cell_type": "code",
   "execution_count": null,
   "id": "ebbe6a02",
   "metadata": {},
   "outputs": [],
   "source": [
    "df = df"
   ]
  },
  {
   "cell_type": "code",
   "execution_count": null,
   "id": "dea7d04e",
   "metadata": {},
   "outputs": [],
   "source": [
    "from datetime import datetime \n",
    "\n",
    "df['year'] = df['date__of_occurrence'].dt.year\n",
    "df['month'] = df['date__of_occurrence'].dt.month\n",
    "df['day'] = df['date__of_occurrence'].dt.day\n",
    "df"
   ]
  },
  {
   "cell_type": "code",
   "execution_count": null,
   "id": "0e2a5f06",
   "metadata": {},
   "outputs": [],
   "source": []
  },
  {
   "cell_type": "code",
   "execution_count": null,
   "id": "f14bc83e",
   "metadata": {},
   "outputs": [],
   "source": [
    "df['date'] = df['year'].astype(str) + '-' + df['month'].astype(str) + '-' + df['day'].astype(str)\n",
    "df"
   ]
  },
  {
   "cell_type": "code",
   "execution_count": null,
   "id": "3ab87b59",
   "metadata": {},
   "outputs": [],
   "source": []
  },
  {
   "cell_type": "code",
   "execution_count": null,
   "id": "72f0bf53",
   "metadata": {},
   "outputs": [],
   "source": [
    "df['date'] = pd.to_datetime(df['date']) # unit='s' helps with converting it to date time from unix\n",
    "df"
   ]
  },
  {
   "cell_type": "code",
   "execution_count": null,
   "id": "40ec2a70",
   "metadata": {},
   "outputs": [],
   "source": []
  },
  {
   "cell_type": "code",
   "execution_count": null,
   "id": "f2b4af01",
   "metadata": {},
   "outputs": [],
   "source": [
    "df.to_csv('crime.csv')"
   ]
  },
  {
   "cell_type": "code",
   "execution_count": null,
   "id": "79de0cd2",
   "metadata": {},
   "outputs": [],
   "source": []
  },
  {
   "cell_type": "code",
   "execution_count": null,
   "id": "2fd385cb",
   "metadata": {},
   "outputs": [],
   "source": []
  }
 ],
 "metadata": {
  "kernelspec": {
   "display_name": "Python 3 (ipykernel)",
   "language": "python",
   "name": "python3"
  },
  "language_info": {
   "codemirror_mode": {
    "name": "ipython",
    "version": 3
   },
   "file_extension": ".py",
   "mimetype": "text/x-python",
   "name": "python",
   "nbconvert_exporter": "python",
   "pygments_lexer": "ipython3",
   "version": "3.9.12"
  }
 },
 "nbformat": 4,
 "nbformat_minor": 5
}
